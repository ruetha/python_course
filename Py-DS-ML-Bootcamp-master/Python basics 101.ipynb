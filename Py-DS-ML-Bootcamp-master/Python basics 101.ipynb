{
 "cells": [
  {
   "cell_type": "markdown",
   "id": "acc51224-9cf8-461d-9ed7-7c6210d71298",
   "metadata": {},
   "source": [
    "# Data types"
   ]
  },
  {
   "cell_type": "markdown",
   "id": "476e3f2e-c3b1-4a21-ba48-44ec0fadf57c",
   "metadata": {},
   "source": [
    "1. Integer - es: 2\n",
    "2. Floats - es: 2.0\n",
    "3. Strings - es: 'Sarah' -> string HAVE to be punt in ''\n",
    "4. Booleans: True, False -> a boolean expression is also any question that has a yes/no answer"
   ]
  },
  {
   "cell_type": "code",
   "execution_count": 22,
   "id": "d25551e6-0c23-4b43-aff3-f136d76ee3e3",
   "metadata": {},
   "outputs": [
    {
     "name": "stdout",
     "output_type": "stream",
     "text": [
      "1 1.6 mi chiamo Sarah True False\n"
     ]
    }
   ],
   "source": [
    "int_es = 1\n",
    "\n",
    "float_es = 1.6\n",
    "\n",
    "str_es = 'mi chiamo Sarah'\n",
    "\n",
    "print(int_es, float_es, str_es, True, False)"
   ]
  },
  {
   "cell_type": "code",
   "execution_count": 17,
   "id": "89e79036-2e54-40b8-99a6-a7056732a1d7",
   "metadata": {},
   "outputs": [],
   "source": [
    "intero = 2 # l'assegnazione si fa con ="
   ]
  },
  {
   "cell_type": "markdown",
   "id": "1a07e737-d058-47da-8cd7-605858d59004",
   "metadata": {
    "tags": []
   },
   "source": [
    "# Type"
   ]
  },
  {
   "cell_type": "code",
   "execution_count": 9,
   "id": "5066100f-8a0a-4ead-ac73-fb918c10a385",
   "metadata": {},
   "outputs": [
    {
     "data": {
      "text/plain": [
       "str"
      ]
     },
     "execution_count": 9,
     "metadata": {},
     "output_type": "execute_result"
    }
   ],
   "source": [
    "type('abcdef') # do not assigne a type, but it tells you what it is"
   ]
  },
  {
   "cell_type": "markdown",
   "id": "3fb8d1d2-ca17-46b3-aeec-a1a2e90b1e5d",
   "metadata": {},
   "source": [
    "## str()"
   ]
  },
  {
   "cell_type": "code",
   "execution_count": 7,
   "id": "5b4ee4f2-ab4e-4ee4-9b8d-c8fab0bf4b6f",
   "metadata": {},
   "outputs": [],
   "source": [
    "var_1 = 18 #here I assigned a int variable"
   ]
  },
  {
   "cell_type": "code",
   "execution_count": 10,
   "id": "da4ebcd7-6bbd-4d8b-bd8b-d024ba4a54a4",
   "metadata": {},
   "outputs": [
    {
     "name": "stdout",
     "output_type": "stream",
     "text": [
      "lei ha 18 anni\n"
     ]
    }
   ],
   "source": [
    "print('lei ha ' + str(var_1) + ' anni') #str() turn a variable into a string"
   ]
  },
  {
   "cell_type": "markdown",
   "id": "2e5f872a-cc65-4484-8afa-4024e7a2b19e",
   "metadata": {},
   "source": [
    "## int()"
   ]
  },
  {
   "cell_type": "code",
   "execution_count": 6,
   "id": "44ac9a64-95c6-4a02-98f2-80b7d10deabf",
   "metadata": {},
   "outputs": [],
   "source": [
    "var_2 = '1994'"
   ]
  },
  {
   "cell_type": "code",
   "execution_count": 12,
   "id": "6c5bc668-f0d6-482b-80c1-be296c287303",
   "metadata": {},
   "outputs": [
    {
     "data": {
      "text/plain": [
       "28"
      ]
     },
     "execution_count": 12,
     "metadata": {},
     "output_type": "execute_result"
    }
   ],
   "source": [
    "2022 - int(var_2) #int() turn a variable into a integer"
   ]
  },
  {
   "cell_type": "code",
   "execution_count": 14,
   "id": "43c53720-ef97-492c-9cfa-6fafef30dfc2",
   "metadata": {},
   "outputs": [
    {
     "data": {
      "text/plain": [
       "28.0"
      ]
     },
     "execution_count": 14,
     "metadata": {},
     "output_type": "execute_result"
    }
   ],
   "source": [
    "2022 - float(var_2) #float() turn a variable into a float"
   ]
  },
  {
   "cell_type": "markdown",
   "id": "63e6e97f-5098-484b-8d75-adf870bd833d",
   "metadata": {},
   "source": [
    "# Operations"
   ]
  },
  {
   "cell_type": "code",
   "execution_count": 17,
   "id": "0c154651-fd6e-41c9-a37f-1a29f8b09235",
   "metadata": {},
   "outputs": [
    {
     "data": {
      "text/plain": [
       "2"
      ]
     },
     "execution_count": 17,
     "metadata": {},
     "output_type": "execute_result"
    }
   ],
   "source": [
    "1 + 1 "
   ]
  },
  {
   "cell_type": "code",
   "execution_count": 19,
   "id": "876ae3dd-6a9d-41a7-a677-b18ca7d75869",
   "metadata": {},
   "outputs": [
    {
     "name": "stdout",
     "output_type": "stream",
     "text": [
      "io sono Sarah\n"
     ]
    }
   ],
   "source": [
    "nome = 'Sarah'\n",
    "\n",
    "print('io sono ' + nome) # l'operatore + può essere usato anche per concatenare stringhe"
   ]
  },
  {
   "cell_type": "code",
   "execution_count": 4,
   "id": "022eac2e-a2b2-41d7-8265-12783133abdf",
   "metadata": {},
   "outputs": [
    {
     "data": {
      "text/plain": [
       "6"
      ]
     },
     "execution_count": 4,
     "metadata": {},
     "output_type": "execute_result"
    }
   ],
   "source": [
    "3 * 2"
   ]
  },
  {
   "cell_type": "code",
   "execution_count": 6,
   "id": "0f9297e4-99d3-4166-a0b4-d91c38ec8bb3",
   "metadata": {},
   "outputs": [
    {
     "data": {
      "text/plain": [
       "2.0"
      ]
     },
     "execution_count": 6,
     "metadata": {},
     "output_type": "execute_result"
    }
   ],
   "source": [
    "8 / 4"
   ]
  },
  {
   "cell_type": "code",
   "execution_count": 8,
   "id": "8bc3b7f0-5d73-40af-95d3-b82f19566c3d",
   "metadata": {},
   "outputs": [
    {
     "data": {
      "text/plain": [
       "25"
      ]
     },
     "execution_count": 8,
     "metadata": {},
     "output_type": "execute_result"
    }
   ],
   "source": [
    "5 ** 2 # exponential"
   ]
  },
  {
   "cell_type": "raw",
   "id": "9301688c-88bb-4289-a6d9-5ba70c57a1f7",
   "metadata": {},
   "source": [
    "Operation will follow the expected order -> use parentheses to clarify the order"
   ]
  },
  {
   "cell_type": "markdown",
   "id": "7c5a56d9-7465-4471-aee8-e3bd6e2e0129",
   "metadata": {},
   "source": [
    "Model function: will returns what remain after a division, done with %"
   ]
  },
  {
   "cell_type": "code",
   "execution_count": 46,
   "id": "a72bccb7-ddf8-4fdd-a303-b55e66640078",
   "metadata": {},
   "outputs": [
    {
     "data": {
      "text/plain": [
       "1"
      ]
     },
     "execution_count": 46,
     "metadata": {},
     "output_type": "execute_result"
    }
   ],
   "source": [
    "7 % 2 # it will shows that is an odd number"
   ]
  },
  {
   "cell_type": "markdown",
   "id": "6fe201d3-0375-4e07-b15e-2c016a6182cf",
   "metadata": {},
   "source": [
    "## -= += ecc"
   ]
  },
  {
   "cell_type": "markdown",
   "id": "4fa3d9c3-1eb9-4377-8d71-c177a43982ee",
   "metadata": {},
   "source": [
    "si usano solo con variabili già assegnate"
   ]
  },
  {
   "cell_type": "code",
   "execution_count": 57,
   "id": "befebb5e-aa35-471f-9ef9-eaaa47f66663",
   "metadata": {},
   "outputs": [
    {
     "data": {
      "text/plain": [
       "15"
      ]
     },
     "execution_count": 57,
     "metadata": {},
     "output_type": "execute_result"
    }
   ],
   "source": [
    "x = 10\n",
    "\n",
    "x += 5 #questa è un'ASSEGNAZIONE, non restituisce un risultato, ecquivale a x = x+5\n",
    "\n",
    "x"
   ]
  },
  {
   "cell_type": "markdown",
   "id": "634e3526-24bc-409d-bef2-60d9e13c8ba0",
   "metadata": {},
   "source": [
    "## round()"
   ]
  },
  {
   "cell_type": "code",
   "execution_count": 39,
   "id": "10d7d536-5e22-4029-8500-2ee77a7a1f9f",
   "metadata": {},
   "outputs": [
    {
     "data": {
      "text/plain": [
       "3"
      ]
     },
     "execution_count": 39,
     "metadata": {},
     "output_type": "execute_result"
    }
   ],
   "source": [
    "round(2.7)"
   ]
  },
  {
   "cell_type": "markdown",
   "id": "e3fec04f-6647-4261-a729-57a786bf9e1a",
   "metadata": {},
   "source": [
    "## math module"
   ]
  },
  {
   "cell_type": "markdown",
   "id": "c8c335fc-069c-4997-957a-51461ca7179e",
   "metadata": {},
   "source": [
    "import math module to perform more difficult operations. To use the math function wtire math.function"
   ]
  },
  {
   "cell_type": "code",
   "execution_count": 45,
   "id": "7a1bfbec-df9e-46e1-83ed-228f342159a2",
   "metadata": {},
   "outputs": [
    {
     "data": {
      "text/plain": [
       "'3 2'"
      ]
     },
     "execution_count": 45,
     "metadata": {},
     "output_type": "execute_result"
    }
   ],
   "source": [
    "import math\n",
    "str(math.ceil(2.9)) + ' ' + str(math.floor(2.9))"
   ]
  },
  {
   "cell_type": "markdown",
   "id": "74924553-4253-4e81-ba1d-05f630c57cd1",
   "metadata": {},
   "source": [
    "# Variable assignments"
   ]
  },
  {
   "cell_type": "markdown",
   "id": "d8d596ea-92b3-429d-8650-471a70591fc3",
   "metadata": {},
   "source": [
    "Variable assignments - es: define that x = 3\n",
    "\n",
    "Important thing:\n",
    ">- Variables shouldn't start with numbers\n",
    ">- nor with special symbols\n",
    ">- using underscorse to separate names - ex: first_var = 5"
   ]
  },
  {
   "cell_type": "code",
   "execution_count": 12,
   "id": "c1eac494-f6c3-4a76-a1a2-83fc46b994bc",
   "metadata": {},
   "outputs": [],
   "source": [
    "x = 3\n",
    "y = 4"
   ]
  },
  {
   "cell_type": "markdown",
   "id": "14902877-7b61-410e-a8aa-7c5ed7c524c3",
   "metadata": {},
   "source": [
    "x + y"
   ]
  },
  {
   "cell_type": "markdown",
   "id": "28787708-e756-4f61-aba4-4370e6a1bce2",
   "metadata": {},
   "source": [
    "# Strings"
   ]
  },
  {
   "cell_type": "markdown",
   "id": "b061810c-e9a9-421f-8984-f585a5325da6",
   "metadata": {},
   "source": [
    "Write among '' or \"\"\n",
    "If among \"\" it can retain '\n",
    "ex:"
   ]
  },
  {
   "cell_type": "code",
   "execution_count": 14,
   "id": "9eaa32e8-3015-4010-b217-319f8c88debb",
   "metadata": {},
   "outputs": [
    {
     "data": {
      "text/plain": [
       "'This is a string'"
      ]
     },
     "execution_count": 14,
     "metadata": {},
     "output_type": "execute_result"
    }
   ],
   "source": [
    "'This is a string'"
   ]
  },
  {
   "cell_type": "code",
   "execution_count": 15,
   "id": "e0cbefde-540f-408a-bac2-47a80a794968",
   "metadata": {},
   "outputs": [
    {
     "data": {
      "text/plain": [
       "\"that's also a string\""
      ]
     },
     "execution_count": 15,
     "metadata": {},
     "output_type": "execute_result"
    }
   ],
   "source": [
    "\"that's also a string\""
   ]
  },
  {
   "cell_type": "markdown",
   "id": "5425e293-7667-4e6c-be0f-747103f05db5",
   "metadata": {},
   "source": [
    "You can assign a string to a variable. Ex:"
   ]
  },
  {
   "cell_type": "code",
   "execution_count": 19,
   "id": "0e5ee8ed-9154-466c-a295-65649a79fd7b",
   "metadata": {},
   "outputs": [],
   "source": [
    "x = \"ciaone\" # questa cosa la fa solo jupiter. In genere sempre mettere print davanti"
   ]
  },
  {
   "cell_type": "raw",
   "id": "c03c18fc-b6b6-4e8a-a0c9-b4382ff71883",
   "metadata": {},
   "source": [
    "Here's how to print a variable:"
   ]
  },
  {
   "cell_type": "code",
   "execution_count": 20,
   "id": "30881813-a47a-4ddd-ad86-f4ed55103c39",
   "metadata": {},
   "outputs": [
    {
     "data": {
      "text/plain": [
       "'ciaone'"
      ]
     },
     "execution_count": 20,
     "metadata": {},
     "output_type": "execute_result"
    }
   ],
   "source": [
    "x # fuori da Jupiter scrivendo solo la variabile da errore"
   ]
  },
  {
   "cell_type": "code",
   "execution_count": 22,
   "id": "fe44bce1-a0a3-42cb-8a2d-7871345ff2f5",
   "metadata": {},
   "outputs": [
    {
     "name": "stdout",
     "output_type": "stream",
     "text": [
      "ciaone\n"
     ]
    }
   ],
   "source": [
    "print(x) # note the differences among the two"
   ]
  },
  {
   "cell_type": "code",
   "execution_count": 21,
   "id": "d6efd979-afee-4159-b5f4-cac055e03d80",
   "metadata": {},
   "outputs": [],
   "source": [
    "num = 3\n",
    "name = \"Sarah\""
   ]
  },
  {
   "cell_type": "markdown",
   "id": "13f85e99-a163-4ac5-8aa8-5b33d259e4ea",
   "metadata": {},
   "source": [
    "## String formatting -> .format()"
   ]
  },
  {
   "cell_type": "markdown",
   "id": "8db27491-6ec6-4447-8134-d531b9fb2c67",
   "metadata": {},
   "source": [
    "Needed to insert variable in a string: inster in a placeholder {} the value of the variable"
   ]
  },
  {
   "cell_type": "code",
   "execution_count": 4,
   "id": "83ec810b-1f8d-4b46-af0f-507f55a0f514",
   "metadata": {},
   "outputs": [
    {
     "name": "stdout",
     "output_type": "stream",
     "text": [
      "my number is 3 and my number is Sarah\n"
     ]
    }
   ],
   "source": [
    "print(\"my number is {} and my number is {}\".format(num, name)) # Alt Gr + Shift + ] = }"
   ]
  },
  {
   "cell_type": "code",
   "execution_count": 23,
   "id": "763182e3-7bb2-4f90-8506-71ab36a78ae3",
   "metadata": {},
   "outputs": [
    {
     "name": "stdout",
     "output_type": "stream",
     "text": [
      "my number is 3 and my number is Sarah\n"
     ]
    }
   ],
   "source": [
    "print(\"my number is {one} and my number is {two}\".format(one=num, two=name)) # set the order you want"
   ]
  },
  {
   "cell_type": "markdown",
   "id": "cec96770-27f6-492f-8595-6aaa528a5a7d",
   "metadata": {},
   "source": [
    "Eserzizio: ciao Sarah, piacere di conoscerti, il mio nome è Simone"
   ]
  },
  {
   "cell_type": "code",
   "execution_count": 26,
   "id": "7967d926-3f0c-4acf-a910-54b79fd1a894",
   "metadata": {},
   "outputs": [
    {
     "name": "stdout",
     "output_type": "stream",
     "text": [
      "ciao Sarah, piacere di conoscerti, il mio nome è Simone\n"
     ]
    }
   ],
   "source": [
    "print('ciao {nome1}, piacere di conoscerti, il mio nome è {nome2}'.format(nome1='Sarah', nome2='Simone'))"
   ]
  },
  {
   "cell_type": "code",
   "execution_count": 29,
   "id": "1293d317-5570-4b04-955c-b948d7a1fb93",
   "metadata": {},
   "outputs": [
    {
     "name": "stdout",
     "output_type": "stream",
     "text": [
      "ciao Sarah, piacere di conoscerti, il mio nome è Simone\n"
     ]
    }
   ],
   "source": [
    "print('ciao {}, piacere di conoscerti, il mio nome è {}'.format('Sarah', 'Simone'))"
   ]
  },
  {
   "cell_type": "markdown",
   "id": "11a2af32-3f37-40f1-a1e1-bc92f4f87986",
   "metadata": {},
   "source": [
    "si possono anche concatenare più stringhe"
   ]
  },
  {
   "cell_type": "code",
   "execution_count": 33,
   "id": "ff7bd238-3e31-4b0a-94d2-0058efb97f59",
   "metadata": {},
   "outputs": [
    {
     "name": "stdout",
     "output_type": "stream",
     "text": [
      "ciao Sarah, piacere di conoscerti, il mio nome è Simone\n"
     ]
    }
   ],
   "source": [
    "nome_1 = 'Sarah'\n",
    "\n",
    "nome_2 = 'Simone'\n",
    "\n",
    "print('ciao {}, piacere di conoscerti, il mio nome è {}'.format(nome_1, nome_2))"
   ]
  },
  {
   "cell_type": "code",
   "execution_count": 37,
   "id": "32749415-0ac3-4e66-abc9-0aeff55bd86a",
   "metadata": {},
   "outputs": [
    {
     "name": "stdout",
     "output_type": "stream",
     "text": [
      "ciao Sarah, piacere di conoscerti, il mio nome è Simone\n"
     ]
    }
   ],
   "source": [
    "print('ciao ' + nome_1 + ', piacere di conoscerti, il mio nome è ' + nome_2)"
   ]
  },
  {
   "cell_type": "markdown",
   "id": "d79a2425-b560-47d3-8672-458562a62991",
   "metadata": {},
   "source": [
    "esercizio: Sono Sarah e ho 28 anni"
   ]
  },
  {
   "cell_type": "code",
   "execution_count": 39,
   "id": "18114e81-c64b-4896-bbce-62bb19acb9c7",
   "metadata": {},
   "outputs": [
    {
     "data": {
      "text/plain": [
       "'Sono Sarah e ho 28 anni'"
      ]
     },
     "execution_count": 39,
     "metadata": {},
     "output_type": "execute_result"
    }
   ],
   "source": [
    "'Sono {} e ho {} anni'.format('Sarah', 28)"
   ]
  },
  {
   "cell_type": "code",
   "execution_count": 23,
   "id": "57703e4d-3a19-436f-93b1-31d3e9e9a27a",
   "metadata": {},
   "outputs": [],
   "source": [
    "nome = 'Sarah' # solo le variabili possono essere stringhe senza apici\n",
    "eta = 28"
   ]
  },
  {
   "cell_type": "code",
   "execution_count": 42,
   "id": "4606f9a7-218f-4970-973a-5d0662b0343b",
   "metadata": {},
   "outputs": [
    {
     "data": {
      "text/plain": [
       "'Sono Sarah e ho 28 anni'"
      ]
     },
     "execution_count": 42,
     "metadata": {},
     "output_type": "execute_result"
    }
   ],
   "source": [
    "'Sono {} e ho {} anni'.format(nome, eta)"
   ]
  },
  {
   "cell_type": "code",
   "execution_count": 44,
   "id": "d30c733f-ba70-4d4e-8b1b-36fac93f34a3",
   "metadata": {},
   "outputs": [
    {
     "data": {
      "text/plain": [
       "'Sono Sarah e ho 28 anni'"
      ]
     },
     "execution_count": 44,
     "metadata": {},
     "output_type": "execute_result"
    }
   ],
   "source": [
    "'Sono {ph_1} e ho {ph_2} anni'.format(ph_1=nome, ph_2=eta)"
   ]
  },
  {
   "cell_type": "code",
   "execution_count": 25,
   "id": "f564b2d9-7b75-4690-8dd4-4af91cbd5f75",
   "metadata": {},
   "outputs": [
    {
     "data": {
      "text/plain": [
       "'Sono Sarah e ho 28 anni'"
      ]
     },
     "execution_count": 25,
     "metadata": {},
     "output_type": "execute_result"
    }
   ],
   "source": [
    "'Sono ' + nome + ' e ho ' + str(eta) + ' anni'"
   ]
  },
  {
   "cell_type": "markdown",
   "id": "7ac5e5e1-cb13-4d4d-8498-c85b2e0d2680",
   "metadata": {},
   "source": [
    "## len()"
   ]
  },
  {
   "cell_type": "code",
   "execution_count": 27,
   "id": "cb193019-500a-423f-905c-9b5ccf03f7f3",
   "metadata": {},
   "outputs": [
    {
     "data": {
      "text/plain": [
       "5"
      ]
     },
     "execution_count": 27,
     "metadata": {},
     "output_type": "execute_result"
    }
   ],
   "source": [
    "mylist = [1, 2, 3, 4, 5]\n",
    "\n",
    "len(mylist)"
   ]
  },
  {
   "cell_type": "code",
   "execution_count": 29,
   "id": "c49f125f-41e3-41f1-895a-88ad30ab4852",
   "metadata": {},
   "outputs": [
    {
     "data": {
      "text/plain": [
       "18"
      ]
     },
     "execution_count": 29,
     "metadata": {},
     "output_type": "execute_result"
    }
   ],
   "source": [
    "len('ciao io sono Sarah')"
   ]
  },
  {
   "cell_type": "code",
   "execution_count": 30,
   "id": "b6d97f0f-ab65-42a0-818f-c3c7da305472",
   "metadata": {},
   "outputs": [
    {
     "data": {
      "text/plain": [
       "7"
      ]
     },
     "execution_count": 30,
     "metadata": {},
     "output_type": "execute_result"
    }
   ],
   "source": [
    "var_1 = 'Esempio'\n",
    "\n",
    "len(var_1)"
   ]
  },
  {
   "cell_type": "markdown",
   "id": "4a95de8a-0c74-461b-b377-f683bad97011",
   "metadata": {},
   "source": [
    "# Indexing"
   ]
  },
  {
   "cell_type": "markdown",
   "id": "eb4fbbbf-c19f-4215-8e3a-3ffb460c56b1",
   "metadata": {},
   "source": [
    "Indexing in python starts with 0\n",
    "BUT\n",
    "*negative indexing* allows you to start counting from the end: starting from -1"
   ]
  },
  {
   "cell_type": "code",
   "execution_count": 9,
   "id": "083494d7-bf29-4f3d-aa82-a0d173b53323",
   "metadata": {},
   "outputs": [],
   "source": [
    "s = 'sarah' #every letter is a element in the variable"
   ]
  },
  {
   "cell_type": "code",
   "execution_count": 11,
   "id": "ac70f55c-3787-44c2-aace-9259dbe7ee86",
   "metadata": {},
   "outputs": [
    {
     "data": {
      "text/plain": [
       "'s'"
      ]
     },
     "execution_count": 11,
     "metadata": {},
     "output_type": "execute_result"
    }
   ],
   "source": [
    "s[0] #to find the elements of my string"
   ]
  },
  {
   "cell_type": "code",
   "execution_count": 12,
   "id": "f9761c7c-88c8-43a0-9b9c-572694c4bc21",
   "metadata": {},
   "outputs": [
    {
     "data": {
      "text/plain": [
       "'h'"
      ]
     },
     "execution_count": 12,
     "metadata": {},
     "output_type": "execute_result"
    }
   ],
   "source": [
    "s[-1]"
   ]
  },
  {
   "cell_type": "code",
   "execution_count": 48,
   "id": "8f84859c-d057-45fd-b585-aa3719a9a397",
   "metadata": {},
   "outputs": [],
   "source": [
    "z = \"abcdefghij\""
   ]
  },
  {
   "cell_type": "code",
   "execution_count": 49,
   "id": "4c57bda1-1ed4-43a0-afd5-5b80104ec0fb",
   "metadata": {},
   "outputs": [
    {
     "data": {
      "text/plain": [
       "'abcdefghij'"
      ]
     },
     "execution_count": 49,
     "metadata": {},
     "output_type": "execute_result"
    }
   ],
   "source": [
    "z[0:] # grab slices"
   ]
  },
  {
   "cell_type": "code",
   "execution_count": 51,
   "id": "8b781d6d-5e71-41b9-a7ee-48af214db979",
   "metadata": {},
   "outputs": [
    {
     "data": {
      "text/plain": [
       "'abc'"
      ]
     },
     "execution_count": 51,
     "metadata": {},
     "output_type": "execute_result"
    }
   ],
   "source": [
    "z[:3] # start and ending point before and after : (the last index is the one you DON'T include"
   ]
  },
  {
   "cell_type": "code",
   "execution_count": 55,
   "id": "80f4e37f-4a3b-4bcc-868f-c73fecc96608",
   "metadata": {},
   "outputs": [],
   "source": [
    "list_ex = [1, 2, 3, [5, 6, 7, [8, 9]]]"
   ]
  },
  {
   "cell_type": "code",
   "execution_count": 56,
   "id": "4cc83a43-a42b-4123-9dd3-4223d41b021e",
   "metadata": {},
   "outputs": [
    {
     "data": {
      "text/plain": [
       "4"
      ]
     },
     "execution_count": 56,
     "metadata": {},
     "output_type": "execute_result"
    }
   ],
   "source": [
    "len(list_ex) # restituisce il numero di elementi in una lista"
   ]
  },
  {
   "cell_type": "code",
   "execution_count": 58,
   "id": "b78e6d6e-4fb3-4558-b211-485f476b84c0",
   "metadata": {},
   "outputs": [
    {
     "data": {
      "text/plain": [
       "8"
      ]
     },
     "execution_count": 58,
     "metadata": {},
     "output_type": "execute_result"
    }
   ],
   "source": [
    "list_ex[-1][-1][-2]"
   ]
  },
  {
   "cell_type": "code",
   "execution_count": 59,
   "id": "56ecd77a-aadf-46f3-b19e-9855f1d8e699",
   "metadata": {},
   "outputs": [],
   "source": [
    "list_ex_2 = [1, 2, [3, 4], [5, [6, 7], [8]]]"
   ]
  },
  {
   "cell_type": "code",
   "execution_count": 60,
   "id": "7c079b23-7650-494e-95d4-1d0e3c4d9c47",
   "metadata": {},
   "outputs": [
    {
     "data": {
      "text/plain": [
       "4"
      ]
     },
     "execution_count": 60,
     "metadata": {},
     "output_type": "execute_result"
    }
   ],
   "source": [
    "len(list_ex_2)"
   ]
  },
  {
   "cell_type": "code",
   "execution_count": 62,
   "id": "c6701fb2-7938-44b9-bb95-55b5bec240e8",
   "metadata": {},
   "outputs": [
    {
     "data": {
      "text/plain": [
       "5"
      ]
     },
     "execution_count": 62,
     "metadata": {},
     "output_type": "execute_result"
    }
   ],
   "source": [
    "list_ex_2[-1][-3]"
   ]
  },
  {
   "cell_type": "code",
   "execution_count": 63,
   "id": "01cc9730-44f1-41fc-b394-1ad52394a9a0",
   "metadata": {},
   "outputs": [],
   "source": [
    "list_ex_3 = ['a', ['b', 'c'], ['d, e', ['f', 'g']], 'h']"
   ]
  },
  {
   "cell_type": "code",
   "execution_count": 64,
   "id": "3b7a1396-58e3-4b18-8ba6-4a66cf95c6c5",
   "metadata": {},
   "outputs": [
    {
     "data": {
      "text/plain": [
       "4"
      ]
     },
     "execution_count": 64,
     "metadata": {},
     "output_type": "execute_result"
    }
   ],
   "source": [
    "len(list_ex_3)"
   ]
  },
  {
   "cell_type": "code",
   "execution_count": 66,
   "id": "de659634-0b68-41d4-8b34-6dfb9fb3cf90",
   "metadata": {},
   "outputs": [
    {
     "data": {
      "text/plain": [
       "2"
      ]
     },
     "execution_count": 66,
     "metadata": {},
     "output_type": "execute_result"
    }
   ],
   "source": [
    "len(list_ex_3[2])"
   ]
  },
  {
   "cell_type": "code",
   "execution_count": 67,
   "id": "e06784a0-4b43-4af7-97ca-5a1f908b2696",
   "metadata": {},
   "outputs": [
    {
     "data": {
      "text/plain": [
       "'c'"
      ]
     },
     "execution_count": 67,
     "metadata": {},
     "output_type": "execute_result"
    }
   ],
   "source": [
    "list_ex_3[1][1]"
   ]
  },
  {
   "cell_type": "markdown",
   "id": "781014b2-2f0c-4078-9f81-00a74abcead2",
   "metadata": {},
   "source": [
    "# Lists []"
   ]
  },
  {
   "cell_type": "markdown",
   "id": "2d044536-6a2d-4186-9242-bcfe3e38e726",
   "metadata": {},
   "source": [
    "lists can contain basically any data type"
   ]
  },
  {
   "cell_type": "code",
   "execution_count": 68,
   "id": "17e523b1-f802-431d-a7ae-d9c81e01f149",
   "metadata": {},
   "outputs": [],
   "source": [
    "mylist = [\"a\", \"b\", \"c\"]"
   ]
  },
  {
   "cell_type": "code",
   "execution_count": 69,
   "id": "bdc9c258-5455-4930-9d47-5408a9e0e290",
   "metadata": {},
   "outputs": [],
   "source": [
    "mylist.append(\"d\") # to add an element at the end of a list"
   ]
  },
  {
   "cell_type": "code",
   "execution_count": 73,
   "id": "40180918-d0f7-48c0-95bb-01d022665942",
   "metadata": {},
   "outputs": [
    {
     "data": {
      "text/plain": [
       "'mo'"
      ]
     },
     "execution_count": 73,
     "metadata": {},
     "output_type": "execute_result"
    }
   ],
   "source": [
    "'Simone'[2:4]"
   ]
  },
  {
   "cell_type": "code",
   "execution_count": 55,
   "id": "e60e6377-4f90-4d61-97e4-bbe0b3ac352f",
   "metadata": {},
   "outputs": [
    {
     "data": {
      "text/plain": [
       "['a', 'b', 'c', 'd', 'd', 'd']"
      ]
     },
     "execution_count": 55,
     "metadata": {},
     "output_type": "execute_result"
    }
   ],
   "source": [
    "mylist"
   ]
  },
  {
   "cell_type": "code",
   "execution_count": 57,
   "id": "ff3ec955-2b83-4227-918e-4ee6204888c0",
   "metadata": {},
   "outputs": [
    {
     "data": {
      "text/plain": [
       "['b', 'c']"
      ]
     },
     "execution_count": 57,
     "metadata": {},
     "output_type": "execute_result"
    }
   ],
   "source": [
    "mylist[1:3] # from b and not including d"
   ]
  },
  {
   "cell_type": "code",
   "execution_count": 58,
   "id": "52850b2e-26e9-4e35-b704-cd1f11345eb1",
   "metadata": {},
   "outputs": [],
   "source": [
    "mylist[0] = \"new\""
   ]
  },
  {
   "cell_type": "code",
   "execution_count": 60,
   "id": "a5c2afa3-3b3f-4739-aca5-8b5a6f7c7bcb",
   "metadata": {},
   "outputs": [
    {
     "name": "stdout",
     "output_type": "stream",
     "text": [
      "['new', 'b', 'c', 'd', 'd', 'd']\n"
     ]
    }
   ],
   "source": [
    "print(mylist)"
   ]
  },
  {
   "cell_type": "code",
   "execution_count": 61,
   "id": "44438252-a231-48b0-be85-218920d8f31b",
   "metadata": {},
   "outputs": [],
   "source": [
    "nest = [1, 2, [3, 4]]"
   ]
  },
  {
   "cell_type": "code",
   "execution_count": 62,
   "id": "02416a58-2f0b-4acc-ab90-fe503c992294",
   "metadata": {},
   "outputs": [
    {
     "name": "stdout",
     "output_type": "stream",
     "text": [
      "[1, 2, [3, 4]]\n"
     ]
    }
   ],
   "source": [
    "print(nest)"
   ]
  },
  {
   "cell_type": "code",
   "execution_count": 64,
   "id": "d3bb1183-9c4c-4680-be00-3ba24621cfbc",
   "metadata": {},
   "outputs": [
    {
     "data": {
      "text/plain": [
       "4"
      ]
     },
     "execution_count": 64,
     "metadata": {},
     "output_type": "execute_result"
    }
   ],
   "source": [
    "nest[2][1] # to grab an element inside the nest"
   ]
  },
  {
   "cell_type": "code",
   "execution_count": 65,
   "id": "86a3f76b-17ab-48e2-b266-a290fdd97ecc",
   "metadata": {},
   "outputs": [],
   "source": [
    "nest2 = [1, 2, 3, [4, 5, [\"target\"]]]"
   ]
  },
  {
   "cell_type": "code",
   "execution_count": 67,
   "id": "881b1f99-54d3-42f7-8c40-1e1b655c4fbc",
   "metadata": {},
   "outputs": [
    {
     "name": "stdout",
     "output_type": "stream",
     "text": [
      "target\n"
     ]
    }
   ],
   "source": [
    "print(nest2[3][2][0])"
   ]
  },
  {
   "cell_type": "markdown",
   "id": "45afc9b0-adbd-4908-8537-c94d14c92b91",
   "metadata": {},
   "source": [
    "# Dictionaries {}"
   ]
  },
  {
   "cell_type": "markdown",
   "id": "b757c462-d9ad-48cf-903a-a0a44fb6f937",
   "metadata": {},
   "source": [
    "Do not retain any order, they are just key value pair mappings"
   ]
  },
  {
   "cell_type": "code",
   "execution_count": 1,
   "id": "ebddcae3-1301-4edd-b9b8-afc8bd729aaa",
   "metadata": {},
   "outputs": [],
   "source": [
    "d = {\"key1\":\"value\", \"key2\":123}"
   ]
  },
  {
   "cell_type": "code",
   "execution_count": 3,
   "id": "ffad0948-d91e-4a78-81ff-6f73703f41a1",
   "metadata": {},
   "outputs": [
    {
     "data": {
      "text/plain": [
       "123"
      ]
     },
     "execution_count": 3,
     "metadata": {},
     "output_type": "execute_result"
    }
   ],
   "source": [
    "d[\"key2\"]"
   ]
  },
  {
   "cell_type": "markdown",
   "id": "2f4e3e63-0be2-4613-86bd-ae886a3bdc31",
   "metadata": {},
   "source": [
    "You can put a list inside of a dictonary"
   ]
  },
  {
   "cell_type": "code",
   "execution_count": 4,
   "id": "77022b2e-0727-495e-a33b-c3330f7ae495",
   "metadata": {},
   "outputs": [],
   "source": [
    "d = {\"k1\":[1,2,3,4]}"
   ]
  },
  {
   "cell_type": "markdown",
   "id": "1b5a3f2d-edbb-48e8-986f-abc6a815041c",
   "metadata": {},
   "source": [
    "Calling the key then you can do normal indexing"
   ]
  },
  {
   "cell_type": "code",
   "execution_count": 6,
   "id": "d4e0ebf1-8916-4182-91dd-87b9c2fb8213",
   "metadata": {},
   "outputs": [
    {
     "data": {
      "text/plain": [
       "4"
      ]
     },
     "execution_count": 6,
     "metadata": {},
     "output_type": "execute_result"
    }
   ],
   "source": [
    "d[\"k1\"][3]"
   ]
  },
  {
   "cell_type": "markdown",
   "id": "4b9bc3a8-aa81-4188-9bce-5c7ed8e2fff5",
   "metadata": {},
   "source": [
    "You can have nested dictionaries"
   ]
  },
  {
   "cell_type": "code",
   "execution_count": 7,
   "id": "e6f1b2b0-54b3-4dab-844e-2d585ff48ac4",
   "metadata": {},
   "outputs": [],
   "source": [
    "d = {\"k1\":{\"innerkey\":[1,2,3,4]}}"
   ]
  },
  {
   "cell_type": "code",
   "execution_count": 8,
   "id": "1aba8952-78cf-4590-989f-3a43769785cb",
   "metadata": {},
   "outputs": [
    {
     "data": {
      "text/plain": [
       "4"
      ]
     },
     "execution_count": 8,
     "metadata": {},
     "output_type": "execute_result"
    }
   ],
   "source": [
    "d[\"k1\"][\"innerkey\"][3]"
   ]
  },
  {
   "cell_type": "code",
   "execution_count": 9,
   "id": "333e0334-86ef-427c-b4e0-23abbd247fc3",
   "metadata": {},
   "outputs": [
    {
     "data": {
      "text/plain": [
       "True"
      ]
     },
     "execution_count": 9,
     "metadata": {},
     "output_type": "execute_result"
    }
   ],
   "source": [
    "True"
   ]
  },
  {
   "cell_type": "code",
   "execution_count": 10,
   "id": "c0543c45-8f23-4768-aa78-cfd602afe046",
   "metadata": {},
   "outputs": [
    {
     "data": {
      "text/plain": [
       "False"
      ]
     },
     "execution_count": 10,
     "metadata": {},
     "output_type": "execute_result"
    }
   ],
   "source": [
    "False"
   ]
  },
  {
   "cell_type": "markdown",
   "id": "d81fad5c-5210-4b8c-91d8-c18d64c6e15d",
   "metadata": {},
   "source": [
    "# Tuples ()"
   ]
  },
  {
   "cell_type": "code",
   "execution_count": 11,
   "id": "d652be35-cd4f-4da4-9686-3b5bc3f6f4a8",
   "metadata": {},
   "outputs": [],
   "source": [
    "t = (1,2,3)"
   ]
  },
  {
   "cell_type": "code",
   "execution_count": 12,
   "id": "d0ef7f07-7bb0-45bc-8674-ea901a3fb0d3",
   "metadata": {},
   "outputs": [
    {
     "data": {
      "text/plain": [
       "3"
      ]
     },
     "execution_count": 12,
     "metadata": {},
     "output_type": "execute_result"
    }
   ],
   "source": [
    "t[2]"
   ]
  },
  {
   "cell_type": "markdown",
   "id": "bf7fc1f6-2d93-44d3-960d-dc4ffdea79fa",
   "metadata": {},
   "source": [
    "Tuples do not support item riassignments"
   ]
  },
  {
   "cell_type": "code",
   "execution_count": 13,
   "id": "659488be-e347-40c4-867b-7bc885a0d7eb",
   "metadata": {},
   "outputs": [
    {
     "ename": "TypeError",
     "evalue": "'tuple' object does not support item assignment",
     "output_type": "error",
     "traceback": [
      "\u001b[1;31m---------------------------------------------------------------------------\u001b[0m",
      "\u001b[1;31mTypeError\u001b[0m                                 Traceback (most recent call last)",
      "\u001b[1;32m~\\AppData\\Local\\Temp/ipykernel_26012/594566987.py\u001b[0m in \u001b[0;36m<module>\u001b[1;34m\u001b[0m\n\u001b[1;32m----> 1\u001b[1;33m \u001b[0mt\u001b[0m\u001b[1;33m[\u001b[0m\u001b[1;36m0\u001b[0m\u001b[1;33m]\u001b[0m \u001b[1;33m=\u001b[0m \u001b[1;34m\"NEW\"\u001b[0m\u001b[1;33m\u001b[0m\u001b[1;33m\u001b[0m\u001b[0m\n\u001b[0m",
      "\u001b[1;31mTypeError\u001b[0m: 'tuple' object does not support item assignment"
     ]
    }
   ],
   "source": [
    "t[0] = \"NEW\""
   ]
  },
  {
   "cell_type": "markdown",
   "id": "a8f65d7f-1fc3-4e09-b302-4d3f132a5234",
   "metadata": {},
   "source": [
    "# Set"
   ]
  },
  {
   "cell_type": "markdown",
   "id": "ea2609e0-ba17-4dd5-ab6d-6357c1ad11f0",
   "metadata": {},
   "source": [
    "A set is a collection of unique elements\n",
    "\n",
    "And it looks the same of curly brackets as a dictionary except it doesn't have the colons it's just elements -> defined only by  UNIQUE elements"
   ]
  },
  {
   "cell_type": "code",
   "execution_count": 14,
   "id": "d6c7c336-a9ea-4f4c-b2ca-96671d0d5f69",
   "metadata": {},
   "outputs": [
    {
     "data": {
      "text/plain": [
       "{1, 2, 3, 4}"
      ]
     },
     "execution_count": 14,
     "metadata": {},
     "output_type": "execute_result"
    }
   ],
   "source": [
    "{1,2,3,4,}"
   ]
  },
  {
   "cell_type": "code",
   "execution_count": 15,
   "id": "95ecfec1-0d80-427a-93b4-b45dbe8d353e",
   "metadata": {},
   "outputs": [
    {
     "data": {
      "text/plain": [
       "{1, 2, 3, 4}"
      ]
     },
     "execution_count": 15,
     "metadata": {},
     "output_type": "execute_result"
    }
   ],
   "source": [
    "{1,1,1,2,2,3,4,}"
   ]
  },
  {
   "cell_type": "markdown",
   "id": "b90c296a-ebc0-43a4-a4af-f468e293e59f",
   "metadata": {},
   "source": [
    "You can actually call s e t set function and write a list to grab the unique elements for you."
   ]
  },
  {
   "cell_type": "code",
   "execution_count": 16,
   "id": "56b8294b-d39a-4cf7-aa70-3d41b69f8aed",
   "metadata": {},
   "outputs": [
    {
     "data": {
      "text/plain": [
       "{1, 2, 3, 4}"
      ]
     },
     "execution_count": 16,
     "metadata": {},
     "output_type": "execute_result"
    }
   ],
   "source": [
    "set([1,2,3,4,4,4,4,2,2,2,1,1,1])"
   ]
  },
  {
   "cell_type": "code",
   "execution_count": 17,
   "id": "d402af1b-736a-4035-b248-8c76b13c8c44",
   "metadata": {},
   "outputs": [],
   "source": [
    "s = {1,2,3,4}"
   ]
  },
  {
   "cell_type": "code",
   "execution_count": 19,
   "id": "cbdfad18-67b8-492e-a091-7fa708f122b7",
   "metadata": {},
   "outputs": [],
   "source": [
    "s.add(5) #if i try to add another 5 it will gave me the same result again"
   ]
  },
  {
   "cell_type": "code",
   "execution_count": 20,
   "id": "64651581-cb20-4366-8d9c-2aea2c185f79",
   "metadata": {},
   "outputs": [
    {
     "data": {
      "text/plain": [
       "{1, 2, 3, 4, 5}"
      ]
     },
     "execution_count": 20,
     "metadata": {},
     "output_type": "execute_result"
    }
   ],
   "source": [
    "s"
   ]
  },
  {
   "cell_type": "markdown",
   "id": "c925c57c-3ca7-45bc-acb2-40b96c6a67bd",
   "metadata": {},
   "source": [
    "# Comparison operators"
   ]
  },
  {
   "cell_type": "code",
   "execution_count": 21,
   "id": "b7cd336b-14c6-4d04-ab05-49e00b10de00",
   "metadata": {},
   "outputs": [
    {
     "data": {
      "text/plain": [
       "False"
      ]
     },
     "execution_count": 21,
     "metadata": {},
     "output_type": "execute_result"
    }
   ],
   "source": [
    "1 > 2"
   ]
  },
  {
   "cell_type": "code",
   "execution_count": 22,
   "id": "df2591dd-df6c-4a4d-8af8-0c316021b839",
   "metadata": {},
   "outputs": [
    {
     "data": {
      "text/plain": [
       "True"
      ]
     },
     "execution_count": 22,
     "metadata": {},
     "output_type": "execute_result"
    }
   ],
   "source": [
    "1 < 2"
   ]
  },
  {
   "cell_type": "code",
   "execution_count": 23,
   "id": "815a9eb6-e082-48cc-83d5-0d3d2c79c9ac",
   "metadata": {},
   "outputs": [
    {
     "data": {
      "text/plain": [
       "False"
      ]
     },
     "execution_count": 23,
     "metadata": {},
     "output_type": "execute_result"
    }
   ],
   "source": [
    "1 >= 2"
   ]
  },
  {
   "cell_type": "code",
   "execution_count": 25,
   "id": "7d34f978-c1f3-4f8c-ad66-b14581c829ba",
   "metadata": {},
   "outputs": [
    {
     "data": {
      "text/plain": [
       "True"
      ]
     },
     "execution_count": 25,
     "metadata": {},
     "output_type": "execute_result"
    }
   ],
   "source": [
    "1 == 1 #check for equality"
   ]
  },
  {
   "cell_type": "code",
   "execution_count": 88,
   "id": "591961de-f920-4b46-af25-b28d8297a31c",
   "metadata": {},
   "outputs": [
    {
     "data": {
      "text/plain": [
       "True"
      ]
     },
     "execution_count": 88,
     "metadata": {},
     "output_type": "execute_result"
    }
   ],
   "source": [
    "1 != 2 #check for inequality"
   ]
  },
  {
   "cell_type": "code",
   "execution_count": 94,
   "id": "0a862f45-511d-4f08-a161-45e2b02d289c",
   "metadata": {},
   "outputs": [
    {
     "name": "stdout",
     "output_type": "stream",
     "text": [
      "it's a hot day\n"
     ]
    }
   ],
   "source": [
    "temperature = 40\n",
    "\n",
    "if temperature > 25:\n",
    "    print (\"it's a hot day\")\n",
    "elif temperature < 25:\n",
    "    print(\"it's a chilly day\")\n",
    "else:\n",
    "    print (\"it's a perfect day!\")"
   ]
  },
  {
   "cell_type": "markdown",
   "id": "920a9eb9-688e-4c1d-a953-fbe83d5c51ec",
   "metadata": {},
   "source": [
    "I'ts possible to performe it also with strings"
   ]
  },
  {
   "cell_type": "code",
   "execution_count": 28,
   "id": "311ba473-eb02-448e-85fe-4939df8f9bdb",
   "metadata": {},
   "outputs": [
    {
     "data": {
      "text/plain": [
       "False"
      ]
     },
     "execution_count": 28,
     "metadata": {},
     "output_type": "execute_result"
    }
   ],
   "source": [
    "\"by\" == \"ny\""
   ]
  },
  {
   "cell_type": "markdown",
   "id": "7b8dfe0e-4884-47de-a45e-31c9732627b7",
   "metadata": {},
   "source": [
    "## Combining conditions"
   ]
  },
  {
   "cell_type": "markdown",
   "id": "706a4771-7245-4655-ae60-6f26dfdb6a70",
   "metadata": {},
   "source": [
    "## and"
   ]
  },
  {
   "cell_type": "code",
   "execution_count": 29,
   "id": "3203bbc3-dd00-40df-aebb-988ec18e1419",
   "metadata": {},
   "outputs": [
    {
     "data": {
      "text/plain": [
       "True"
      ]
     },
     "execution_count": 29,
     "metadata": {},
     "output_type": "execute_result"
    }
   ],
   "source": [
    "1 < 2 and 2 < 3"
   ]
  },
  {
   "cell_type": "code",
   "execution_count": 31,
   "id": "985d6b88-a882-45bb-b43e-3e7f486377ca",
   "metadata": {},
   "outputs": [
    {
     "data": {
      "text/plain": [
       "False"
      ]
     },
     "execution_count": 31,
     "metadata": {},
     "output_type": "execute_result"
    }
   ],
   "source": [
    "(1 > 2) and (3 < 4) # true + false will give you false #() not essential, just for readability"
   ]
  },
  {
   "cell_type": "markdown",
   "id": "c311bb01-9d2f-47f3-8659-677e669cc01a",
   "metadata": {},
   "source": [
    "## or"
   ]
  },
  {
   "cell_type": "code",
   "execution_count": 82,
   "id": "e1a7d8dd-c45c-483d-a431-bc570d37876d",
   "metadata": {},
   "outputs": [
    {
     "data": {
      "text/plain": [
       "True"
      ]
     },
     "execution_count": 82,
     "metadata": {},
     "output_type": "execute_result"
    }
   ],
   "source": [
    "(1 > 2) or (3 < 4) or (1 != 1) # for true, it's enough that one condion is satisfied"
   ]
  },
  {
   "cell_type": "markdown",
   "id": "df37768d-6ca4-4172-86cf-138d2a5f6ba6",
   "metadata": {},
   "source": [
    "## not"
   ]
  },
  {
   "cell_type": "code",
   "execution_count": 86,
   "id": "d2dcd4fa-eb4f-4298-9077-439a615d769d",
   "metadata": {},
   "outputs": [
    {
     "name": "stdout",
     "output_type": "stream",
     "text": [
      "not eligible for loan\n"
     ]
    }
   ],
   "source": [
    "has_good_credit = True\n",
    "has_criminal_record = True\n",
    "\n",
    "if has_good_credit and not has_criminal_record:\n",
    "    print('eligible for loan')   \n",
    "else:\n",
    "    print('not eligible for loan')"
   ]
  },
  {
   "cell_type": "markdown",
   "id": "44bd28eb-b742-4c4e-a40c-576f043e69f6",
   "metadata": {},
   "source": [
    "## if"
   ]
  },
  {
   "cell_type": "code",
   "execution_count": 36,
   "id": "3f15ace7-8700-4f60-8618-9f197ccfd3f2",
   "metadata": {},
   "outputs": [
    {
     "name": "stdout",
     "output_type": "stream",
     "text": [
      "yep!\n"
     ]
    }
   ],
   "source": [
    "if 1 < 2:\n",
    "    print(\"yep!\")\n"
   ]
  },
  {
   "cell_type": "markdown",
   "id": "ff0f9761-3258-4f94-8e91-c01f662d4234",
   "metadata": {},
   "source": [
    "^ see that Python doesn't use brackets in order to separate block of code execution statements, it uses whitespace instead"
   ]
  },
  {
   "cell_type": "markdown",
   "id": "974d1400-7d91-4deb-82a7-ff06ae503ea4",
   "metadata": {},
   "source": [
    "# if else elif: chenking for multiple conditions: "
   ]
  },
  {
   "cell_type": "code",
   "execution_count": 39,
   "id": "36a3952b-9bf1-41c2-85c7-8a74368f4816",
   "metadata": {},
   "outputs": [
    {
     "name": "stdout",
     "output_type": "stream",
     "text": [
      "last\n"
     ]
    }
   ],
   "source": [
    "if 1 == 2:\n",
    "    print(\"first\")\n",
    "else:\n",
    "    print (\"last\")"
   ]
  },
  {
   "cell_type": "markdown",
   "id": "a7a4ef10-735d-4b06-a469-98995807bb9f",
   "metadata": {},
   "source": [
    "Chenking for multiple conditions: if else elif\n",
    "\n",
    "Keep in mind that it will alway print the first condition that is satisfied"
   ]
  },
  {
   "cell_type": "code",
   "execution_count": 41,
   "id": "00930cef-2266-499f-b841-0b6e43335bef",
   "metadata": {},
   "outputs": [
    {
     "name": "stdout",
     "output_type": "stream",
     "text": [
      "middle\n"
     ]
    }
   ],
   "source": [
    "if 1 == 2:\n",
    "    print(\"first\")\n",
    "elif 3 == 3:\n",
    "    print(\"middle\") # otherwise, if this is true print...\n",
    "else:\n",
    "    print (\"last\") # if non are, print..."
   ]
  },
  {
   "cell_type": "code",
   "execution_count": 58,
   "id": "359c7ac3-2db4-4377-8df3-6527ae31b504",
   "metadata": {},
   "outputs": [
    {
     "name": "stdout",
     "output_type": "stream",
     "text": [
      "first\n"
     ]
    }
   ],
   "source": [
    "if 1 != 2:\n",
    "    print(\"first\")\n",
    "elif 3 == 3: # you can apply any elis statements are you want\n",
    "    print(\"middle\") # otherwise, if this is true print...\n",
    "else:\n",
    "    print (\"last\") # if non are, print..."
   ]
  },
  {
   "cell_type": "code",
   "execution_count": 72,
   "id": "9c446d93-4342-4696-941c-0d92c4b009b8",
   "metadata": {},
   "outputs": [
    {
     "name": "stdout",
     "output_type": "stream",
     "text": [
      "it's a perfect weather day!\n",
      "have a lovely day\n"
     ]
    }
   ],
   "source": [
    "is_hot = False\n",
    "is_cold = False\n",
    "\n",
    "if is_hot:\n",
    "    print(\"it's a hot day\")\n",
    "    print(\"drink wated and don't go out in the sun\")\n",
    "elif is_cold:\n",
    "    print(\"it's a cold day\")\n",
    "    print(\"drink warm tea\")\n",
    "else:\n",
    "    print(\"it's a perfect weather day!\")\n",
    "\n",
    "print('have a lovely day')"
   ]
  },
  {
   "cell_type": "code",
   "execution_count": 71,
   "id": "26053f65-daa9-4cd7-b971-edacbf2b8d9b",
   "metadata": {},
   "outputs": [
    {
     "name": "stdout",
     "output_type": "stream",
     "text": [
      "Down payment is $200000.0\n"
     ]
    }
   ],
   "source": [
    "price = 1000000\n",
    "\n",
    "good_credit = False\n",
    "\n",
    "if good_credit:\n",
    "    down_payment = price * 10 / 100\n",
    "else:\n",
    "    down_payment = price * 20 / 100\n",
    "print('Down payment is $' + str(down_payment))"
   ]
  },
  {
   "cell_type": "markdown",
   "id": "fc094689-f888-4bdb-8682-6ee9495b92bc",
   "metadata": {
    "tags": []
   },
   "source": [
    "# Operator *in*"
   ]
  },
  {
   "cell_type": "code",
   "execution_count": 8,
   "id": "461f793c-fecf-49f4-b3bd-4e82ea444bc3",
   "metadata": {},
   "outputs": [
    {
     "data": {
      "text/plain": [
       "True"
      ]
     },
     "execution_count": 8,
     "metadata": {},
     "output_type": "execute_result"
    }
   ],
   "source": [
    "'dog' in 'this is my dog'.split()"
   ]
  },
  {
   "cell_type": "code",
   "execution_count": 16,
   "id": "b4520323-a030-48ba-81b0-db632988e7b2",
   "metadata": {},
   "outputs": [
    {
     "data": {
      "text/plain": [
       "False"
      ]
     },
     "execution_count": 16,
     "metadata": {},
     "output_type": "execute_result"
    }
   ],
   "source": [
    "'y' in 'abcd'"
   ]
  },
  {
   "cell_type": "code",
   "execution_count": 46,
   "id": "8206618e-d2fa-4249-963c-32b58fc7c650",
   "metadata": {},
   "outputs": [
    {
     "data": {
      "text/plain": [
       "True"
      ]
     },
     "execution_count": 46,
     "metadata": {},
     "output_type": "execute_result"
    }
   ],
   "source": [
    "'x' in ['x', 'y', 'z']"
   ]
  },
  {
   "cell_type": "markdown",
   "id": "2f4dc53f-8869-41cc-804b-e47d2a5f0b76",
   "metadata": {
    "tags": []
   },
   "source": [
    "# Operator *for*"
   ]
  },
  {
   "cell_type": "code",
   "execution_count": 13,
   "id": "db1b09af-b27f-48a7-a4a3-bf51a03dbeef",
   "metadata": {},
   "outputs": [
    {
     "name": "stdout",
     "output_type": "stream",
     "text": [
      "0\n",
      "1\n",
      "2\n",
      "3\n",
      "4\n",
      "5\n",
      "6\n",
      "7\n",
      "8\n",
      "9\n"
     ]
    }
   ],
   "source": [
    "for index in range(10):\n",
    "    \n",
    "    print(index)"
   ]
  },
  {
   "cell_type": "code",
   "execution_count": 3,
   "id": "37fe09a2-acaf-46f3-8898-4f742b00ad09",
   "metadata": {
    "tags": []
   },
   "outputs": [
    {
     "name": "stdout",
     "output_type": "stream",
     "text": [
      "cat\n",
      "dog\n",
      "giraffe\n"
     ]
    }
   ],
   "source": [
    "for animal in ['cat', 'dog', 'giraffe']:\n",
    "    \n",
    "    print(animal)"
   ]
  },
  {
   "cell_type": "markdown",
   "id": "606730db-30d5-4479-892b-74b3d2cd3735",
   "metadata": {},
   "source": [
    "# see: Scoping"
   ]
  },
  {
   "cell_type": "markdown",
   "id": "f0bfc586-a23a-41b5-86c4-d9db2b0b9022",
   "metadata": {},
   "source": [
    "# For loops and while loops"
   ]
  },
  {
   "cell_type": "markdown",
   "id": "45e01921-3168-4292-a8ff-639dd8ef9a63",
   "metadata": {},
   "source": [
    "## FOR LOOPS allow you to execute a code for every single item in a sequence"
   ]
  },
  {
   "cell_type": "code",
   "execution_count": 3,
   "id": "efeb2aca-60da-4251-94ab-98f97b7e481a",
   "metadata": {},
   "outputs": [
    {
     "name": "stdout",
     "output_type": "stream",
     "text": [
      "1\n",
      "2\n",
      "3\n",
      "4\n",
      "5\n"
     ]
    }
   ],
   "source": [
    "seq = [1,2,3,4,5]\n",
    "\n",
    "for item in seq: # \"item\" can be everything I want, like for ex \"num\"\n",
    "    print(item) "
   ]
  },
  {
   "cell_type": "code",
   "execution_count": 5,
   "id": "4f0cfc43-1882-413b-8d95-c7a08a460d3f",
   "metadata": {},
   "outputs": [
    {
     "name": "stdout",
     "output_type": "stream",
     "text": [
      "P\n",
      "y\n",
      "t\n",
      "h\n",
      "o\n",
      "n\n"
     ]
    }
   ],
   "source": [
    "for item in 'Python':\n",
    "    print(item)"
   ]
  },
  {
   "cell_type": "code",
   "execution_count": 12,
   "id": "eebf1686-f257-4bfc-a5bc-57f8ea1e3dbc",
   "metadata": {},
   "outputs": [
    {
     "name": "stdout",
     "output_type": "stream",
     "text": [
      "Sarah\n",
      "Simone\n",
      "Zeno\n"
     ]
    }
   ],
   "source": [
    "for item in ['Sarah', 'Simone', 'Zeno']:\n",
    "    print(item)"
   ]
  },
  {
   "cell_type": "code",
   "execution_count": 14,
   "id": "dd276a0a-d950-44db-83a6-e010d1752c47",
   "metadata": {},
   "outputs": [
    {
     "name": "stdout",
     "output_type": "stream",
     "text": [
      "tot: 60\n"
     ]
    }
   ],
   "source": [
    "prices = [10, 20, 30]\n",
    "\n",
    "tot = 0\n",
    "\n",
    "for price in prices:\n",
    "    tot += price #in this line I descrive what happen in each iteration\n",
    "print('tot: {}'.format(tot))"
   ]
  },
  {
   "cell_type": "markdown",
   "id": "4b2885ea-fb32-44ba-b684-a4ec9c2fd5ea",
   "metadata": {
    "tags": []
   },
   "source": [
    "### Range function"
   ]
  },
  {
   "cell_type": "code",
   "execution_count": 3,
   "id": "8d77f465-48f4-4ae0-b923-71fb9a01532f",
   "metadata": {},
   "outputs": [
    {
     "data": {
      "text/plain": [
       "range(0, 5)"
      ]
     },
     "execution_count": 3,
     "metadata": {},
     "output_type": "execute_result"
    }
   ],
   "source": [
    "range(0,5)"
   ]
  },
  {
   "cell_type": "code",
   "execution_count": 5,
   "id": "ab2b647d-7d6f-4b66-94e6-cd20146779de",
   "metadata": {},
   "outputs": [
    {
     "name": "stdout",
     "output_type": "stream",
     "text": [
      "0\n",
      "1\n",
      "2\n",
      "3\n",
      "4\n"
     ]
    }
   ],
   "source": [
    "for x in range(0,5):\n",
    "    print(x)"
   ]
  },
  {
   "cell_type": "code",
   "execution_count": 7,
   "id": "6f129b06-4bf2-48e5-a05d-41642e310d1e",
   "metadata": {},
   "outputs": [
    {
     "data": {
      "text/plain": [
       "[0, 1, 2, 3, 4]"
      ]
     },
     "execution_count": 7,
     "metadata": {},
     "output_type": "execute_result"
    }
   ],
   "source": [
    "list(range(0,5))"
   ]
  },
  {
   "cell_type": "code",
   "execution_count": 13,
   "id": "1813372a-ce2a-4242-940b-5fcf5df7c81e",
   "metadata": {},
   "outputs": [
    {
     "data": {
      "text/plain": [
       "[0, 1, 2, 3, 4, 5, 6, 7, 8, 9]"
      ]
     },
     "execution_count": 13,
     "metadata": {},
     "output_type": "execute_result"
    }
   ],
   "source": [
    "list(range(10))"
   ]
  },
  {
   "cell_type": "markdown",
   "id": "d12fc0f4-a9ab-4211-8c2a-d3de07f89a67",
   "metadata": {},
   "source": [
    "## WHILE LOOP to continuously perform an action as long as a condition is met"
   ]
  },
  {
   "cell_type": "code",
   "execution_count": 2,
   "id": "7152d07e-d217-41e8-ab2f-0bbff6995ec6",
   "metadata": {},
   "outputs": [
    {
     "name": "stdout",
     "output_type": "stream",
     "text": [
      "1\n",
      "2\n",
      "3\n",
      "4\n",
      "5\n",
      "done\n"
     ]
    }
   ],
   "source": [
    "j = 1\n",
    "\n",
    "while j <= 5:\n",
    "    print(j)\n",
    "    j = j + 1 \n",
    "print('done')\n",
    "       \n",
    "# i = i + 1  is to increment 1 of 1 every time the code run\n",
    "# Whitout that, 1 will be <= 1 forevere, so the loop will run forever"
   ]
  },
  {
   "cell_type": "markdown",
   "id": "b4c5b5c0-ec00-4694-a034-d8d6dee02542",
   "metadata": {},
   "source": [
    "*break* is used to terminate a loop"
   ]
  },
  {
   "cell_type": "markdown",
   "id": "240719f0-7f47-4791-bdf3-4e57d7c1250d",
   "metadata": {},
   "source": [
    "## Nested loops"
   ]
  },
  {
   "cell_type": "code",
   "execution_count": null,
   "id": "d774240b-cffd-483e-b131-7b3ba6373ff8",
   "metadata": {},
   "outputs": [],
   "source": []
  },
  {
   "cell_type": "markdown",
   "id": "bbdf9835-030b-452c-baa2-e29b67ef43cc",
   "metadata": {},
   "source": [
    "# List comprehension"
   ]
  },
  {
   "cell_type": "code",
   "execution_count": 75,
   "id": "a8913cc2-9718-445a-b06b-99d894e2b289",
   "metadata": {},
   "outputs": [],
   "source": [
    "x = [1,2,3,4]"
   ]
  },
  {
   "cell_type": "code",
   "execution_count": 81,
   "id": "99a0a647-a621-42f5-84c7-9311775ccd22",
   "metadata": {},
   "outputs": [
    {
     "name": "stdout",
     "output_type": "stream",
     "text": [
      "[1, 4, 9, 16]\n"
     ]
    }
   ],
   "source": [
    "out = []\n",
    "\n",
    "for num in x:\n",
    "    out.append(num**2) # see FOR LOOPS\n",
    "    \n",
    "print(out)"
   ]
  },
  {
   "cell_type": "code",
   "execution_count": 78,
   "id": "76e57c70-f567-4ba5-b43b-9ea60105bd31",
   "metadata": {},
   "outputs": [
    {
     "data": {
      "text/plain": [
       "[1, 4, 9, 16]"
      ]
     },
     "execution_count": 78,
     "metadata": {},
     "output_type": "execute_result"
    }
   ],
   "source": [
    "[num**2 for num in x]"
   ]
  },
  {
   "cell_type": "code",
   "execution_count": 80,
   "id": "99d14031-e9b5-42e9-b88c-7302d1448119",
   "metadata": {},
   "outputs": [
    {
     "data": {
      "text/plain": [
       "[1, 4, 9, 16]"
      ]
     },
     "execution_count": 80,
     "metadata": {},
     "output_type": "execute_result"
    }
   ],
   "source": [
    "out = [num**2 for num in x]\n",
    "\n",
    "out"
   ]
  },
  {
   "cell_type": "markdown",
   "id": "298899f7-621c-4979-929d-9ede9470ee11",
   "metadata": {},
   "source": [
    "List comprehension makes you have things in one line in [] instead have to create an empty list and then use .append"
   ]
  },
  {
   "cell_type": "markdown",
   "id": "f6fb41c6-a1fa-438b-8fb2-d69686a75b23",
   "metadata": {},
   "source": [
    "# Functions"
   ]
  },
  {
   "cell_type": "markdown",
   "id": "1634ca58-a89a-4426-b660-bb5017475f57",
   "metadata": {},
   "source": [
    "Instead of writing the code multiple times, you can write a function and then, when needed again, you will call just the function: key word: def"
   ]
  },
  {
   "cell_type": "code",
   "execution_count": 1,
   "id": "90a9c4a2-1af5-43cc-8fe0-91ed596c1a5d",
   "metadata": {},
   "outputs": [],
   "source": [
    "def my_func(param1):\n",
    "    print(param1)"
   ]
  },
  {
   "cell_type": "code",
   "execution_count": 2,
   "id": "4d65a500-c825-42ae-a032-dedfbb9b36e0",
   "metadata": {},
   "outputs": [
    {
     "name": "stdout",
     "output_type": "stream",
     "text": [
      "hello\n"
     ]
    }
   ],
   "source": [
    "my_func('hello')"
   ]
  },
  {
   "cell_type": "markdown",
   "id": "30ebbeec-08d9-4d99-878e-209dda0d1c9b",
   "metadata": {},
   "source": [
    "L'argomento della funzione (ciò che c'è dentro la parentesi) può contenere tutto ciò di cui ho bisogno per costruirla"
   ]
  },
  {
   "cell_type": "code",
   "execution_count": 21,
   "id": "ed52278b-940c-4c8e-ac1e-0384b6621395",
   "metadata": {},
   "outputs": [],
   "source": [
    "def my_func(name):\n",
    "    print('Hello ' + name)"
   ]
  },
  {
   "cell_type": "code",
   "execution_count": 22,
   "id": "6b0c63dd-630a-4159-804a-ff642ada898d",
   "metadata": {},
   "outputs": [
    {
     "name": "stdout",
     "output_type": "stream",
     "text": [
      "Hello Camillo\n"
     ]
    }
   ],
   "source": [
    "my_func('Camillo')"
   ]
  },
  {
   "cell_type": "code",
   "execution_count": 25,
   "id": "eca55cbb-3b71-4e3f-ac83-9dc44ec17fdb",
   "metadata": {},
   "outputs": [],
   "source": [
    "def my_func(name='Default name'):\n",
    "    print('Hello ' + name)"
   ]
  },
  {
   "cell_type": "code",
   "execution_count": 28,
   "id": "cdc68678-d9d2-4180-b4ee-239ce70493f4",
   "metadata": {},
   "outputs": [
    {
     "name": "stdout",
     "output_type": "stream",
     "text": [
      "Hello Default name\n"
     ]
    }
   ],
   "source": [
    "my_func() # now if I want another name I have to specify the value (like 'Camillo' or name='Camillo')"
   ]
  },
  {
   "cell_type": "code",
   "execution_count": 30,
   "id": "20e97cbf-e2a5-4573-98a5-235d7d33b16f",
   "metadata": {},
   "outputs": [
    {
     "data": {
      "text/plain": [
       "<function __main__.my_func(name='Default name')>"
      ]
     },
     "execution_count": 30,
     "metadata": {},
     "output_type": "execute_result"
    }
   ],
   "source": [
    "my_func #without () I'm just ascking python what is that function, with () it execute the function"
   ]
  },
  {
   "cell_type": "code",
   "execution_count": 3,
   "id": "6ebd65f3-f02d-469f-8ecc-a3df939a2066",
   "metadata": {},
   "outputs": [],
   "source": [
    "def square(num):\n",
    "    \"\"\"\n",
    "    this is a docstring, can go multiple lines:\n",
    "    THIS FUNCTION SQUARES A NUMBER\n",
    "    \"\"\"\n",
    "    return num**2"
   ]
  },
  {
   "cell_type": "code",
   "execution_count": 4,
   "id": "3fc04ac8-3530-4459-809b-653b8d895ef9",
   "metadata": {},
   "outputs": [],
   "source": [
    "output = square(2)"
   ]
  },
  {
   "cell_type": "code",
   "execution_count": 33,
   "id": "0f6480ab-443a-4d9e-b570-7d066474f1a8",
   "metadata": {},
   "outputs": [
    {
     "data": {
      "text/plain": [
       "4"
      ]
     },
     "execution_count": 33,
     "metadata": {},
     "output_type": "execute_result"
    }
   ],
   "source": [
    "output"
   ]
  },
  {
   "cell_type": "markdown",
   "id": "8a2972b6-2c5a-4dc1-850a-6535fec71f58",
   "metadata": {},
   "source": [
    "^ difference between *print* and *return* something"
   ]
  },
  {
   "cell_type": "code",
   "execution_count": 5,
   "id": "c47c212e-285b-404e-845c-4e76b908d1fe",
   "metadata": {},
   "outputs": [
    {
     "data": {
      "text/plain": [
       "<function __main__.square(num)>"
      ]
     },
     "execution_count": 5,
     "metadata": {},
     "output_type": "execute_result"
    }
   ],
   "source": [
    "square #writing the name of a function and then press SHIFT+TAB it gives you the docstring! \n",
    "# Very usefoul to get the documentation of function built into library"
   ]
  },
  {
   "cell_type": "markdown",
   "id": "203cb8a1-c2ad-4262-bc8a-399ae4ab70b2",
   "metadata": {},
   "source": [
    "*print vs return*\n",
    "<br> "
   ]
  },
  {
   "cell_type": "markdown",
   "id": "458dd08a-4e69-47c7-b8ac-4e0a7d08e8c9",
   "metadata": {},
   "source": [
    "# Classi"
   ]
  },
  {
   "cell_type": "markdown",
   "id": "bdcc3378-f023-414f-b1e3-f8b7a60158e1",
   "metadata": {},
   "source": [
    "Interprete e compilatore lavorano insieme per creare il codice macchina a partire dal codice di programmazione\n",
    "\n",
    "<br> Dai linguaggi imperativi si è passati ai programmi orientati agli oggetti (object oriented programming = OOP): i programmi imperativi leggono il codice dall'inizio alla fine, gli OOP modellano una realtà di interesse tramite degli oggeti - ci sono una serie di oggetti che interagiscono tra loro (aiuta pensare cos' al codice, come ad una serie di oggetti che interagiscono tra loro)\n",
    "\n",
    "<br> Ogni oggetto in una realtà di interesse è deinito dalle sue *proprietà* e *azioni*\n",
    "\n",
    "<br> **Classi**: progetto tramite il quale posso creare degli oggetti. La classe potrebbe essere la scrivania, e l'oggetto la vera scrivania con le sue priorità (la classe è una, gli oggetti possono essere tanti). Ad una classe possono corrispondere tanti oggetti, ma un oggetto di riferisce ad una sola classe. Da una classe si *instanziano* gli oggetti (*instancing*)\n",
    "\n",
    "<br> Il *costruttore* è la funzione che ci dice come costruire un oggetto a partire dalla classe"
   ]
  },
  {
   "cell_type": "code",
   "execution_count": 19,
   "id": "a677ddc3-27de-47b2-b82f-0709016ae11f",
   "metadata": {},
   "outputs": [],
   "source": [
    "class Desk:\n",
    "    \n",
    "    def __init__(self, dimension):\n",
    "        \n",
    "        self.dimension = dimension"
   ]
  },
  {
   "cell_type": "code",
   "execution_count": 21,
   "id": "b3301e83-9039-48fe-af8b-5fad74fb3651",
   "metadata": {},
   "outputs": [],
   "source": [
    "desk_a = Desk(5)"
   ]
  },
  {
   "cell_type": "markdown",
   "id": "7d23d09e-5643-4d6f-ae4f-7f815f7066b7",
   "metadata": {},
   "source": [
    "# map()"
   ]
  },
  {
   "cell_type": "code",
   "execution_count": 4,
   "id": "3c4cb381-4039-45a1-b649-c066f09e3aa7",
   "metadata": {},
   "outputs": [],
   "source": [
    "def times2(var): #es of a function i could need\n",
    "    return var*2"
   ]
  },
  {
   "cell_type": "code",
   "execution_count": 5,
   "id": "83d62246-f84e-4e86-99ed-17e08956a84f",
   "metadata": {},
   "outputs": [
    {
     "data": {
      "text/plain": [
       "12"
      ]
     },
     "execution_count": 5,
     "metadata": {},
     "output_type": "execute_result"
    }
   ],
   "source": [
    "times2(6)"
   ]
  },
  {
   "cell_type": "code",
   "execution_count": 6,
   "id": "352ada92-61df-48f3-b034-8efca4869f6a",
   "metadata": {},
   "outputs": [],
   "source": [
    "seq = [1,2,3,4,5]"
   ]
  },
  {
   "cell_type": "markdown",
   "id": "d735fc7d-bb8f-4dc1-affb-f017c72b1dee",
   "metadata": {},
   "source": [
    "to apply my function (eg. times2) to the sequence, I can use a for loop and then append the results to another list.\n",
    "INSTEAD *map* is a built-in function in python that saves that steps"
   ]
  },
  {
   "cell_type": "code",
   "execution_count": 7,
   "id": "59c5a780-2231-49e9-a162-8e678b0b71c3",
   "metadata": {},
   "outputs": [
    {
     "data": {
      "text/plain": [
       "<map at 0x219f94ec9a0>"
      ]
     },
     "execution_count": 7,
     "metadata": {},
     "output_type": "execute_result"
    }
   ],
   "source": [
    "map(times2,seq)"
   ]
  },
  {
   "cell_type": "code",
   "execution_count": 9,
   "id": "03e31439-3439-405f-a659-b3bba331c69f",
   "metadata": {},
   "outputs": [
    {
     "data": {
      "text/plain": [
       "[2, 4, 6, 8, 10]"
      ]
     },
     "execution_count": 9,
     "metadata": {},
     "output_type": "execute_result"
    }
   ],
   "source": [
    "list(map(times2,seq)) #to actually execute the function and return it as a list"
   ]
  },
  {
   "cell_type": "markdown",
   "id": "7a90a426-d878-496c-b249-8778fde39d2e",
   "metadata": {},
   "source": [
    "# Lambda expression"
   ]
  },
  {
   "cell_type": "code",
   "execution_count": 11,
   "id": "806fed23-cda4-4f21-aeae-534361e94569",
   "metadata": {},
   "outputs": [
    {
     "data": {
      "text/plain": [
       "<function __main__.<lambda>(var)>"
      ]
     },
     "execution_count": 11,
     "metadata": {},
     "output_type": "execute_result"
    }
   ],
   "source": [
    "lambda var:var*2 #it saves you from define the expression, then name in then again ask how return it (see ^^)"
   ]
  },
  {
   "cell_type": "code",
   "execution_count": 12,
   "id": "a525d4f3-ff73-4e4b-9556-0d1f625a868b",
   "metadata": {},
   "outputs": [],
   "source": [
    "t = lambda var:var*2 #this is to name the function"
   ]
  },
  {
   "cell_type": "code",
   "execution_count": 13,
   "id": "24a9ebd6-22b6-4bbf-9b68-288a2b5ade33",
   "metadata": {},
   "outputs": [
    {
     "data": {
      "text/plain": [
       "32"
      ]
     },
     "execution_count": 13,
     "metadata": {},
     "output_type": "execute_result"
    }
   ],
   "source": [
    "t(16)"
   ]
  },
  {
   "cell_type": "code",
   "execution_count": 17,
   "id": "64e3985e-9561-482c-8144-5be144c25352",
   "metadata": {},
   "outputs": [],
   "source": [
    "seq = [1,2,3,4,5]"
   ]
  },
  {
   "cell_type": "code",
   "execution_count": 19,
   "id": "024ce3da-cac2-4eff-bf14-a0eeccaa74d0",
   "metadata": {},
   "outputs": [
    {
     "data": {
      "text/plain": [
       "[3, 6, 9, 12, 15]"
      ]
     },
     "execution_count": 19,
     "metadata": {},
     "output_type": "execute_result"
    }
   ],
   "source": [
    "list(map(lambda num: num*3,seq)) # I no longer have to define an entire function formally, I can just use a lambda expr"
   ]
  },
  {
   "cell_type": "markdown",
   "id": "a3515a76-578b-4e0f-bad7-c85f8d53375c",
   "metadata": {},
   "source": [
    "*lambda* expressions are super used in pandas"
   ]
  },
  {
   "cell_type": "markdown",
   "id": "8cdaf5dd-b79d-4559-a22e-8fee4886a0fb",
   "metadata": {},
   "source": [
    "# Filter function"
   ]
  },
  {
   "cell_type": "code",
   "execution_count": 20,
   "id": "9cf82955-9310-4c4c-9aa4-0fa71c3ad353",
   "metadata": {},
   "outputs": [
    {
     "data": {
      "text/plain": [
       "<filter at 0x219f94836d0>"
      ]
     },
     "execution_count": 20,
     "metadata": {},
     "output_type": "execute_result"
    }
   ],
   "source": [
    "filter(lambda num: num%2 == 0, seq) #filter can be applied to a lambda or a function"
   ]
  },
  {
   "cell_type": "code",
   "execution_count": 23,
   "id": "1407b2c6-6470-4270-a8b0-fc19dfffb37d",
   "metadata": {},
   "outputs": [
    {
     "data": {
      "text/plain": [
       "[2, 4]"
      ]
     },
     "execution_count": 23,
     "metadata": {},
     "output_type": "execute_result"
    }
   ],
   "source": [
    "list(filter(lambda num: num%2 == 0, seq)) #this apply the functino just to even numbers in my seq"
   ]
  },
  {
   "cell_type": "code",
   "execution_count": 31,
   "id": "26bc9ac3-0645-4733-83ff-d59177653870",
   "metadata": {},
   "outputs": [],
   "source": [
    "s = 'Hello i feel so dumb'"
   ]
  },
  {
   "cell_type": "code",
   "execution_count": 32,
   "id": "d111a06e-af6b-43c6-8fbd-5f6f681d535b",
   "metadata": {},
   "outputs": [
    {
     "data": {
      "text/plain": [
       "'HELLO I FEEL SO DUMB'"
      ]
     },
     "execution_count": 32,
     "metadata": {},
     "output_type": "execute_result"
    }
   ],
   "source": [
    "s.upper()"
   ]
  },
  {
   "cell_type": "markdown",
   "id": "f9b16d61-12c5-4640-b737-6476a10881e7",
   "metadata": {},
   "source": [
    "## Some built-in funcions"
   ]
  },
  {
   "cell_type": "code",
   "execution_count": 33,
   "id": "3559ac5c-e733-4143-88a7-2a2bddb7202d",
   "metadata": {},
   "outputs": [
    {
     "data": {
      "text/plain": [
       "['Hello', 'i', 'feel', 'so', 'dumb']"
      ]
     },
     "execution_count": 33,
     "metadata": {},
     "output_type": "execute_result"
    }
   ],
   "source": [
    "s.split() #default separator is space"
   ]
  },
  {
   "cell_type": "code",
   "execution_count": 34,
   "id": "d3b2f257-6187-4d66-9d70-971fea283d49",
   "metadata": {},
   "outputs": [],
   "source": [
    "tweet = 'Go Sports! #Sports'"
   ]
  },
  {
   "cell_type": "code",
   "execution_count": 37,
   "id": "479d5dd6-ccf2-4bfd-89c6-deb64361ffe6",
   "metadata": {},
   "outputs": [
    {
     "data": {
      "text/plain": [
       "'Sports'"
      ]
     },
     "execution_count": 37,
     "metadata": {},
     "output_type": "execute_result"
    }
   ],
   "source": [
    "tweet.split('#')[1] #in () is the new assigned separator"
   ]
  },
  {
   "cell_type": "code",
   "execution_count": 33,
   "id": "1782ce20-cbc5-4822-a33d-1107f0811167",
   "metadata": {},
   "outputs": [],
   "source": [
    "d = {'k1': 1, 'k2': 2}"
   ]
  },
  {
   "cell_type": "code",
   "execution_count": 34,
   "id": "9a6592f8-6544-4b0b-9839-bfb49ed33bd7",
   "metadata": {},
   "outputs": [
    {
     "data": {
      "text/plain": [
       "{'k1': 1, 'k2': 2}"
      ]
     },
     "execution_count": 34,
     "metadata": {},
     "output_type": "execute_result"
    }
   ],
   "source": [
    "d"
   ]
  },
  {
   "cell_type": "code",
   "execution_count": 36,
   "id": "8fa0507a-8f9c-4001-8dfe-c5b99103fbcb",
   "metadata": {},
   "outputs": [
    {
     "data": {
      "text/plain": [
       "dict_items([('k1', 1), ('k2', 2)])"
      ]
     },
     "execution_count": 36,
     "metadata": {},
     "output_type": "execute_result"
    }
   ],
   "source": [
    "d.items()"
   ]
  },
  {
   "cell_type": "code",
   "execution_count": 37,
   "id": "4bd5dacb-3583-40b3-be91-192196300da2",
   "metadata": {},
   "outputs": [
    {
     "data": {
      "text/plain": [
       "dict_values([1, 2])"
      ]
     },
     "execution_count": 37,
     "metadata": {},
     "output_type": "execute_result"
    }
   ],
   "source": [
    "d.values()"
   ]
  },
  {
   "cell_type": "code",
   "execution_count": 8,
   "id": "9b0a95ab-e140-4c5d-ba4a-c3736a4a982d",
   "metadata": {},
   "outputs": [],
   "source": [
    "lst = [1,2,3]"
   ]
  },
  {
   "cell_type": "code",
   "execution_count": 9,
   "id": "485b8f02-8b6d-42b5-962d-fe408b529cb8",
   "metadata": {},
   "outputs": [
    {
     "ename": "TypeError",
     "evalue": "'int' object is not subscriptable",
     "output_type": "error",
     "traceback": [
      "\u001b[1;31m---------------------------------------------------------------------------\u001b[0m",
      "\u001b[1;31mTypeError\u001b[0m                                 Traceback (most recent call last)",
      "\u001b[1;32m~\\AppData\\Local\\Temp/ipykernel_15508/2973514414.py\u001b[0m in \u001b[0;36m<module>\u001b[1;34m\u001b[0m\n\u001b[1;32m----> 1\u001b[1;33m \u001b[0mlst\u001b[0m\u001b[1;33m.\u001b[0m\u001b[0mpop\u001b[0m\u001b[1;33m(\u001b[0m\u001b[1;33m)\u001b[0m\u001b[1;33m[\u001b[0m\u001b[1;36m0\u001b[0m\u001b[1;33m]\u001b[0m \u001b[1;31m#this will permanently remove the list item from a list\u001b[0m\u001b[1;33m\u001b[0m\u001b[1;33m\u001b[0m\u001b[0m\n\u001b[0m",
      "\u001b[1;31mTypeError\u001b[0m: 'int' object is not subscriptable"
     ]
    }
   ],
   "source": [
    "lst.pop() #this will permanently remove the list item from a list"
   ]
  },
  {
   "cell_type": "code",
   "execution_count": 6,
   "id": "ab5550fc-1968-42b2-a955-83c34f1411bf",
   "metadata": {},
   "outputs": [
    {
     "data": {
      "text/plain": [
       "[1, 2]"
      ]
     },
     "execution_count": 6,
     "metadata": {},
     "output_type": "execute_result"
    }
   ],
   "source": [
    "lst"
   ]
  },
  {
   "cell_type": "code",
   "execution_count": 44,
   "id": "e43f5cd3-4743-4443-8be9-c4771020bc34",
   "metadata": {},
   "outputs": [],
   "source": [
    "lst.append('new') #to add an item to the list"
   ]
  },
  {
   "cell_type": "code",
   "execution_count": 43,
   "id": "ef59757d-8e77-4d74-889c-e311eae9b736",
   "metadata": {},
   "outputs": [
    {
     "data": {
      "text/plain": [
       "[1, 2, 'new']"
      ]
     },
     "execution_count": 43,
     "metadata": {},
     "output_type": "execute_result"
    }
   ],
   "source": [
    "lst"
   ]
  },
  {
   "cell_type": "code",
   "execution_count": 45,
   "id": "f5a37023-c597-443f-acf3-f90fba7cb43c",
   "metadata": {},
   "outputs": [
    {
     "data": {
      "text/plain": [
       "False"
      ]
     },
     "execution_count": 45,
     "metadata": {},
     "output_type": "execute_result"
    }
   ],
   "source": [
    "'x' in [1,2,3]"
   ]
  },
  {
   "cell_type": "markdown",
   "id": "af58720a-9954-48fe-acde-fb7865560b3e",
   "metadata": {},
   "source": [
    "# Toople unpacking"
   ]
  },
  {
   "cell_type": "code",
   "execution_count": 47,
   "id": "2fac0991-6343-4616-86eb-9539ec46a25f",
   "metadata": {},
   "outputs": [],
   "source": [
    "x = [(1,2),(3,4),(5,6)]"
   ]
  },
  {
   "cell_type": "code",
   "execution_count": 49,
   "id": "594f7b06-4a2f-4dba-9c6d-42609584161f",
   "metadata": {},
   "outputs": [
    {
     "data": {
      "text/plain": [
       "1"
      ]
     },
     "execution_count": 49,
     "metadata": {},
     "output_type": "execute_result"
    }
   ],
   "source": [
    "x[0][0] #I can grab items from a toople"
   ]
  },
  {
   "cell_type": "code",
   "execution_count": 50,
   "id": "fa4f7233-41ea-4fba-b6c1-4e009e8acc87",
   "metadata": {},
   "outputs": [
    {
     "name": "stdout",
     "output_type": "stream",
     "text": [
      "(1, 2)\n",
      "(3, 4)\n",
      "(5, 6)\n"
     ]
    }
   ],
   "source": [
    "for item in x:\n",
    "    print(item)"
   ]
  },
  {
   "cell_type": "code",
   "execution_count": 51,
   "id": "70d09acf-862a-49ba-988c-d59622e0e93e",
   "metadata": {},
   "outputs": [
    {
     "name": "stdout",
     "output_type": "stream",
     "text": [
      "1\n",
      "3\n",
      "5\n"
     ]
    }
   ],
   "source": [
    "for (a,b) in x:\n",
    "    print(a)"
   ]
  },
  {
   "cell_type": "code",
   "execution_count": 7,
   "id": "aef53f2c-d15d-4241-b98b-5444dad18f8c",
   "metadata": {},
   "outputs": [],
   "source": [
    "prova = [1, 2, 3, 4, 5]"
   ]
  },
  {
   "cell_type": "code",
   "execution_count": 3,
   "id": "a8703991-a040-4bde-bcaa-0f219a24fbbb",
   "metadata": {
    "tags": []
   },
   "outputs": [
    {
     "data": {
      "text/plain": [
       "[3, 4]"
      ]
     },
     "execution_count": 3,
     "metadata": {},
     "output_type": "execute_result"
    }
   ],
   "source": [
    "prova[2:4]"
   ]
  },
  {
   "cell_type": "code",
   "execution_count": 4,
   "id": "b868836e-4063-49db-b5f3-2613bd586843",
   "metadata": {},
   "outputs": [
    {
     "data": {
      "text/plain": [
       "[2, 3, 4, 5]"
      ]
     },
     "execution_count": 4,
     "metadata": {},
     "output_type": "execute_result"
    }
   ],
   "source": [
    "prova[1:]"
   ]
  },
  {
   "cell_type": "code",
   "execution_count": null,
   "id": "a5da6863-a399-4199-84a9-0359a379b5c5",
   "metadata": {},
   "outputs": [],
   "source": [
    "prova[-2]"
   ]
  },
  {
   "cell_type": "markdown",
   "id": "37c057aa-2bfb-4738-9e40-a5cde17f0ca2",
   "metadata": {},
   "source": [
    "# API reference"
   ]
  },
  {
   "cell_type": "markdown",
   "id": "b4e86b19-44f5-4576-b2a7-ad0160c19674",
   "metadata": {},
   "source": [
    "API: interfaccia di un software -> nella documentazione, quello che trovo qui mi spiega come usare il software"
   ]
  }
 ],
 "metadata": {
  "kernelspec": {
   "display_name": "Python 3 (ipykernel)",
   "language": "python",
   "name": "python3"
  },
  "language_info": {
   "codemirror_mode": {
    "name": "ipython",
    "version": 3
   },
   "file_extension": ".py",
   "mimetype": "text/x-python",
   "name": "python",
   "nbconvert_exporter": "python",
   "pygments_lexer": "ipython3",
   "version": "3.9.7"
  },
  "toc-showcode": false
 },
 "nbformat": 4,
 "nbformat_minor": 5
}
