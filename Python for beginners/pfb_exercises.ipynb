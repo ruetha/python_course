{
 "cells": [
  {
   "cell_type": "markdown",
   "id": "29c32244-c1a7-41a5-9a3f-8dd2e5166bcf",
   "metadata": {},
   "source": [
    "\n",
    "# esercises from Python for beginner"
   ]
  },
  {
   "cell_type": "markdown",
   "id": "2b3790a3-4acb-4eae-b955-55e59a8e10f7",
   "metadata": {},
   "source": [
    "https://youtu.be/_uQrJ0TkZlc"
   ]
  },
  {
   "cell_type": "code",
   "execution_count": 3,
   "id": "f2c3cd9c-0bdd-4faa-878c-1a3b4f046326",
   "metadata": {},
   "outputs": [
    {
     "name": "stdout",
     "output_type": "stream",
     "text": [
      "name must be at least 3 characters\n"
     ]
    }
   ],
   "source": [
    "name = 'Sh'\n",
    "\n",
    "if len(name) < 3:\n",
    "    print('name must be at least 3 characters')\n",
    "elif len(name) > 50:\n",
    "    print('name can be a maximun of 50 characters')\n",
    "else:\n",
    "    print('name looks good!')\n",
    "    "
   ]
  },
  {
   "cell_type": "code",
   "execution_count": null,
   "id": "793e80a0-e714-4b98-b6af-f2290abfc2d4",
   "metadata": {},
   "outputs": [
    {
     "name": "stdin",
     "output_type": "stream",
     "text": [
      "> dlkhb\n"
     ]
    },
    {
     "name": "stdout",
     "output_type": "stream",
     "text": [
      "I don't understand that\n"
     ]
    },
    {
     "name": "stdin",
     "output_type": "stream",
     "text": [
      "> start\n"
     ]
    },
    {
     "name": "stdout",
     "output_type": "stream",
     "text": [
      "I don't understand that\n"
     ]
    },
    {
     "name": "stdin",
     "output_type": "stream",
     "text": [
      "> help\n"
     ]
    },
    {
     "name": "stdout",
     "output_type": "stream",
     "text": [
      "I don't understand that\n"
     ]
    },
    {
     "name": "stdin",
     "output_type": "stream",
     "text": [
      "> quit\n"
     ]
    },
    {
     "name": "stdout",
     "output_type": "stream",
     "text": [
      "I don't understand that\n"
     ]
    }
   ],
   "source": [
    "st = ''\n",
    "\n",
    "while st.lower != 'quit':\n",
    "    st = input('>')\n",
    "    if st.lower == 'help':\n",
    "        print('start - to start the car'\n",
    "          'stop - to stop the car'\n",
    "          'quit - to quit the game')\n",
    "    elif st.lower == 'start':\n",
    "        print('car started... Ready to go!')\n",
    "    elif st.lower == 'stop':\n",
    "        print('car stopped')\n",
    "    else:\n",
    "        print(\"I don't understand that\")\n",
    "    "
   ]
  },
  {
   "cell_type": "markdown",
   "id": "c68898cb-5e65-464e-b8fe-0736ed2ff4c3",
   "metadata": {},
   "source": [
    "DRY: don't repeat yourself!\n",
    "<br>if a command is repeated multiple times, it means that you can do better\n",
    "<br> see: st.lower...\n",
    "<br> below there'a solution"
   ]
  },
  {
   "cell_type": "code",
   "execution_count": 8,
   "id": "4a285791-c8a7-4a06-940a-b4c77596ff76",
   "metadata": {},
   "outputs": [
    {
     "name": "stdin",
     "output_type": "stream",
     "text": [
      "> stop\n"
     ]
    },
    {
     "name": "stdout",
     "output_type": "stream",
     "text": [
      "car is already stopped!\n"
     ]
    },
    {
     "name": "stdin",
     "output_type": "stream",
     "text": [
      "> help\n"
     ]
    },
    {
     "name": "stdout",
     "output_type": "stream",
     "text": [
      "\n",
      "start - to start the car\n",
      "stop - to stop the car\n",
      "quit - to quit the game\n",
      "        \n"
     ]
    },
    {
     "name": "stdin",
     "output_type": "stream",
     "text": [
      "> start\n"
     ]
    },
    {
     "name": "stdout",
     "output_type": "stream",
     "text": [
      "car started... Ready to go!\n"
     ]
    },
    {
     "name": "stdin",
     "output_type": "stream",
     "text": [
      "> start\n"
     ]
    },
    {
     "name": "stdout",
     "output_type": "stream",
     "text": [
      "car is already started!\n"
     ]
    },
    {
     "name": "stdin",
     "output_type": "stream",
     "text": [
      "> stop\n"
     ]
    },
    {
     "name": "stdout",
     "output_type": "stream",
     "text": [
      "car stopped.\n"
     ]
    },
    {
     "name": "stdin",
     "output_type": "stream",
     "text": [
      "> quit\n"
     ]
    }
   ],
   "source": [
    "st = ''\n",
    "started = False\n",
    "\n",
    "while True:\n",
    "    st = input('>').lower()\n",
    "    if st == 'help':\n",
    "        print('''\n",
    "start - to start the car\n",
    "stop - to stop the car\n",
    "quit - to quit the game\n",
    "        ''')\n",
    "    elif st == 'start':\n",
    "        if started:\n",
    "            print('car is already started!')\n",
    "        else:\n",
    "            started = True\n",
    "            print('car started... Ready to go!')\n",
    "    elif st == 'stop':\n",
    "        if not started:\n",
    "            print('car is already stopped!')\n",
    "        else:\n",
    "            stopped = True\n",
    "            print('car stopped.')\n",
    "    elif st == 'quit':\n",
    "        break\n",
    "    else:\n",
    "        print(\"I don't understand that\")\n",
    "    "
   ]
  },
  {
   "cell_type": "code",
   "execution_count": 2,
   "id": "d38f9a76-0757-41ef-a51a-3910436a8d0a",
   "metadata": {},
   "outputs": [
    {
     "name": "stdout",
     "output_type": "stream",
     "text": [
      "tot: 60\n"
     ]
    }
   ],
   "source": [
    "prices = [10, 20, 30]\n",
    "\n",
    "tot = 0\n",
    "\n",
    "for price in prices:\n",
    "    tot += price #in this line I descrive what happen in each iteration\n",
    "print('tot: {}'.format(tot))"
   ]
  },
  {
   "cell_type": "code",
   "execution_count": 11,
   "id": "e18cde4b-34d9-444e-9b32-03708c296395",
   "metadata": {},
   "outputs": [
    {
     "name": "stdout",
     "output_type": "stream",
     "text": [
      "odd\n"
     ]
    }
   ],
   "source": [
    "num = 5\n",
    "\n",
    "if num % 2 == 0:\n",
    "    print('even')\n",
    "else:\n",
    "    print('odd')"
   ]
  },
  {
   "cell_type": "code",
   "execution_count": 17,
   "id": "2314c4aa-c607-4dcf-a521-288626680e8d",
   "metadata": {},
   "outputs": [
    {
     "name": "stdout",
     "output_type": "stream",
     "text": [
      "greater\n"
     ]
    }
   ],
   "source": [
    "num = 47\n",
    "\n",
    "if 0 < num < 100:\n",
    "    print('greater')\n",
    "elif -100 < num < 0:\n",
    "    print('smaller')\n",
    "else:\n",
    "    print('è un numero inconcepibile')"
   ]
  },
  {
   "cell_type": "code",
   "execution_count": 18,
   "id": "b1ffc99b-2b92-4b9e-9286-dd74e67232e0",
   "metadata": {},
   "outputs": [
    {
     "data": {
      "text/plain": [
       "'\\nDato il nome e l\\'età, stampa \"potrebbe essere Simone se il nome inizia con S \\ne l\\'età è copresa tra i 30 e 40 anni\"\\n'"
      ]
     },
     "execution_count": 18,
     "metadata": {},
     "output_type": "execute_result"
    }
   ],
   "source": [
    "'''\n",
    "Dato il nome e l'età, stampa \"potrebbe essere Simone se il nome inizia con S \n",
    "e l'età è copresa tra i 30 e 40 anni\"\n",
    "'''"
   ]
  },
  {
   "cell_type": "code",
   "execution_count": 29,
   "id": "dc7d6be0-a806-42c1-8f36-a4f1b34547ed",
   "metadata": {},
   "outputs": [
    {
     "name": "stdout",
     "output_type": "stream",
     "text": [
      "potrebbe essere Simone\n"
     ]
    }
   ],
   "source": [
    "name = 'Samantha'\n",
    "age = 34\n",
    "\n",
    "if name.lower()[0] == 's' and 20 < age < 40:\n",
    "    print('potrebbe essere Simone')\n",
    "else:\n",
    "    print('nah, non credo sia Simone')"
   ]
  },
  {
   "cell_type": "markdown",
   "id": "f11a77f6-40e5-4f5e-b4d2-1534556c8917",
   "metadata": {},
   "source": [
    "# For loop excercises"
   ]
  },
  {
   "cell_type": "code",
   "execution_count": 38,
   "id": "9282cd80-5a3f-4911-bb0b-1b6a76c2adff",
   "metadata": {},
   "outputs": [
    {
     "name": "stdout",
     "output_type": "stream",
     "text": [
      "5\n",
      "7\n",
      "9\n",
      "11\n",
      "13\n",
      "15\n"
     ]
    }
   ],
   "source": [
    "for num in range(5,16,2):\n",
    "    print(num)"
   ]
  },
  {
   "cell_type": "code",
   "execution_count": 40,
   "id": "6241bc78-b0a0-4a33-a9bb-0b5f54d2f6e7",
   "metadata": {},
   "outputs": [
    {
     "name": "stdout",
     "output_type": "stream",
     "text": [
      "la somma è 55\n"
     ]
    }
   ],
   "source": [
    "total = 0\n",
    "\n",
    "for num in range(11):\n",
    "    total += num\n",
    "print('la somma è {}'.format(total))"
   ]
  },
  {
   "cell_type": "markdown",
   "id": "5af9c35d-ea58-4308-88d3-1ed38f033c3c",
   "metadata": {},
   "source": [
    "data una lista di numeri casuali, quanti numeri pari ci sono:"
   ]
  },
  {
   "cell_type": "code",
   "execution_count": 47,
   "id": "87550238-b031-4b28-90e7-6bff3955b6eb",
   "metadata": {},
   "outputs": [
    {
     "name": "stdout",
     "output_type": "stream",
     "text": [
      "ci sono 5 numeri pari\n"
     ]
    }
   ],
   "source": [
    "mylist = [1, 4, 45, 32, 574, 23, 66, 78]\n",
    "\n",
    "even_n = 0\n",
    "\n",
    "for num in mylist:\n",
    "    if num % 2 == 0:\n",
    "        even_n += 1\n",
    "    \n",
    "print('ci sono {} numeri pari'.format(even_n))"
   ]
  },
  {
   "cell_type": "markdown",
   "id": "2db5fb70-d267-4594-8191-e070bd62d44c",
   "metadata": {},
   "source": [
    "data una lista di stringhe (es, nomi di frutta) contare tutte le stringhe che iniziano per un carattere (char) e sono lunghe k"
   ]
  },
  {
   "cell_type": "code",
   "execution_count": 50,
   "id": "e3a7f2b6-a4b3-4b27-81b4-9edaad810cc2",
   "metadata": {},
   "outputs": [
    {
     "name": "stdout",
     "output_type": "stream",
     "text": [
      "ci sono 3 parole con queste caratteristiche\n"
     ]
    }
   ],
   "source": [
    "fruits = ['accbdjdj', 'cir', 'sggj', 'CAL', 'alsfkn' , 'Csp']\n",
    "char = 'c'\n",
    "lenght = 3\n",
    "\n",
    "total = 0\n",
    "\n",
    "for fruit in fruits:\n",
    "    if fruit.lower()[0] == char and len(fruit) == lenght:\n",
    "        total += 1\n",
    "print('ci sono {} parole con queste caratteristiche'.format(total))"
   ]
  },
  {
   "cell_type": "markdown",
   "id": "120c2b02-a8f4-426c-852a-bb0c80f9eee9",
   "metadata": {},
   "source": [
    "# While loop excercises"
   ]
  },
  {
   "cell_type": "code",
   "execution_count": 1,
   "id": "228b899c-55da-4b67-8109-fcb5ffba6a03",
   "metadata": {},
   "outputs": [
    {
     "name": "stdout",
     "output_type": "stream",
     "text": [
      "1\n",
      "2\n",
      "3\n",
      "4\n",
      "5\n"
     ]
    }
   ],
   "source": [
    "num = 1\n",
    "\n",
    "while num < 6:\n",
    "    print(num)\n",
    "    num = num + 1"
   ]
  },
  {
   "cell_type": "markdown",
   "id": "4dde991b-fb7a-40d6-83d5-7053fb078af7",
   "metadata": {},
   "source": [
    "data una lista, dire se contiene la parola cicoria"
   ]
  },
  {
   "cell_type": "code",
   "execution_count": 9,
   "id": "89cb00b7-5606-4a52-b37a-571f738d58f6",
   "metadata": {},
   "outputs": [
    {
     "name": "stdout",
     "output_type": "stream",
     "text": [
      "1\n",
      "1.3333333333333333\n"
     ]
    }
   ],
   "source": [
    "a = 4\n",
    "b = 3\n",
    "print(a // b)\n",
    "print(a / b)"
   ]
  },
  {
   "cell_type": "code",
   "execution_count": 11,
   "id": "a230e0c7-3305-406b-bc3a-00a566cc32ce",
   "metadata": {},
   "outputs": [
    {
     "name": "stdout",
     "output_type": "stream",
     "text": [
      "0\n",
      "1\n",
      "4\n"
     ]
    }
   ],
   "source": [
    "n = 3\n",
    "\n",
    "for item in range(n):\n",
    "    print(item**2)"
   ]
  },
  {
   "cell_type": "code",
   "execution_count": 18,
   "id": "b22ce4ea-4bcd-4eb2-8c7f-199829d55fa1",
   "metadata": {},
   "outputs": [
    {
     "data": {
      "text/plain": [
       "range(1, 7)"
      ]
     },
     "execution_count": 18,
     "metadata": {},
     "output_type": "execute_result"
    }
   ],
   "source": [
    "def is_leap(year):\n",
    "    leap = False\n",
    "    \n",
    "    \n",
    "    \n",
    "    return leap"
   ]
  },
  {
   "cell_type": "code",
   "execution_count": 23,
   "id": "b5f9a553-b74c-4f88-93cc-737567c9db84",
   "metadata": {},
   "outputs": [
    {
     "data": {
      "text/plain": [
       "False"
      ]
     },
     "execution_count": 23,
     "metadata": {},
     "output_type": "execute_result"
    }
   ],
   "source": [
    "def is_leap(year):\n",
    "    leap = False\n",
    "    \n",
    "    if year % 4 == 0:\n",
    "        leap = True\n",
    "    if year % 100 == 0 and year % 400 == 0:\n",
    "        leap = True\n",
    "    \n",
    "    return leap\n",
    "\n",
    "is_leap(1990)"
   ]
  },
  {
   "cell_type": "markdown",
   "id": "ae156986-0157-4d42-ad15-d72c461877cf",
   "metadata": {},
   "source": [
    "definire una funzione che data una lista stampa gli elementi della lista"
   ]
  },
  {
   "cell_type": "code",
   "execution_count": 2,
   "id": "f965d860-b84e-4e78-bd97-5b218bbf49c6",
   "metadata": {},
   "outputs": [],
   "source": [
    "def print_list(items):\n",
    "    for element in items:\n",
    "        print(element)"
   ]
  },
  {
   "cell_type": "code",
   "execution_count": 3,
   "id": "23011153-b4cb-4663-a823-f4509d3ab050",
   "metadata": {},
   "outputs": [
    {
     "name": "stdout",
     "output_type": "stream",
     "text": [
      "1\n",
      "2\n",
      "3\n",
      "4\n",
      "5\n",
      "6\n",
      "7\n",
      "8\n"
     ]
    }
   ],
   "source": [
    "list_1 = [1, 2, 3, 4, 5, 6, 7, 8]\n",
    "\n",
    "print_list(list_1)"
   ]
  },
  {
   "cell_type": "code",
   "execution_count": 5,
   "id": "e513e798-f7d4-4be1-be39-b8d7711628b4",
   "metadata": {},
   "outputs": [
    {
     "name": "stdout",
     "output_type": "stream",
     "text": [
      "p\n",
      "r\n",
      "o\n",
      "v\n",
      "a\n"
     ]
    }
   ],
   "source": [
    "print_list('prova')"
   ]
  },
  {
   "cell_type": "code",
   "execution_count": 21,
   "id": "1463fe89-fd8f-4d6a-9f0f-685cb74541b3",
   "metadata": {},
   "outputs": [],
   "source": [
    "def find_element(element, items):\n",
    "    \n",
    "    found = False\n",
    "    \n",
    "    if element in items:\n",
    "        \n",
    "        found = True\n",
    "    \n",
    "    return found"
   ]
  },
  {
   "cell_type": "code",
   "execution_count": 22,
   "id": "1a0524d8-b4cf-4b53-89dd-8fcf05b24ee1",
   "metadata": {},
   "outputs": [
    {
     "data": {
      "text/plain": [
       "False"
      ]
     },
     "execution_count": 22,
     "metadata": {},
     "output_type": "execute_result"
    }
   ],
   "source": [
    "list_2 = [1, 2, 3, 4, 5, 6]\n",
    "\n",
    "find_element(8, list_2)"
   ]
  },
  {
   "cell_type": "markdown",
   "id": "6bf96958-1950-4ba5-8bfe-e7b926973423",
   "metadata": {},
   "source": [
    "Data una lista di interi e un valore k ritornare la lista di elementi moltiplicati per k"
   ]
  },
  {
   "cell_type": "code",
   "execution_count": 24,
   "id": "928f99fd-3ac1-459f-9189-bb7f4c311a59",
   "metadata": {},
   "outputs": [],
   "source": [
    "def multiply_k(items, k):\n",
    "    \n",
    "    multiplied_items = []\n",
    "    \n",
    "    for item in items:\n",
    "        \n",
    "        multiplied_item = item * k\n",
    "        \n",
    "        multiplied_items.append(multiplied_item)\n",
    "        \n",
    "    return multiplied_items"
   ]
  },
  {
   "cell_type": "code",
   "execution_count": 25,
   "id": "6050823d-45cb-486d-b7a2-0362749a6002",
   "metadata": {},
   "outputs": [
    {
     "data": {
      "text/plain": [
       "[2, 4, 6, 8, 10, 12]"
      ]
     },
     "execution_count": 25,
     "metadata": {},
     "output_type": "execute_result"
    }
   ],
   "source": [
    "k = 2\n",
    "\n",
    "multiply_k(list_2, k)"
   ]
  },
  {
   "cell_type": "markdown",
   "id": "b7330b36-650c-4b4a-8362-f2f2ddd2e46e",
   "metadata": {},
   "source": [
    "data una lista e una seconda lista, verificare se almeno un elemento della prima è contenuto nella seconda e ritornare True o False"
   ]
  },
  {
   "cell_type": "code",
   "execution_count": 43,
   "id": "53c280a6-1924-4f20-8b1f-c2552fdcb8bb",
   "metadata": {},
   "outputs": [],
   "source": [
    "def confront_elements(items_1, items_2):\n",
    "    \n",
    "    found = False\n",
    "    \n",
    "    for item in items_1:\n",
    "        \n",
    "        if item in items_2:\n",
    "            \n",
    "            found = True\n",
    "            \n",
    "    return found"
   ]
  },
  {
   "cell_type": "code",
   "execution_count": 44,
   "id": "2d5d8e1f-6cd1-4c10-b71f-a0c1d8369488",
   "metadata": {},
   "outputs": [
    {
     "data": {
      "text/plain": [
       "True"
      ]
     },
     "execution_count": 44,
     "metadata": {},
     "output_type": "execute_result"
    }
   ],
   "source": [
    "confront_elements([1, 2, 3], [4, 5, 3])"
   ]
  },
  {
   "cell_type": "markdown",
   "id": "a2d0ee5d-3515-43cd-bed5-04ef816b1c64",
   "metadata": {},
   "source": [
    "## Esercizi sulle funzioni"
   ]
  },
  {
   "cell_type": "markdown",
   "id": "f93b7997-b0b5-4ce9-9215-6c0411bc9a89",
   "metadata": {},
   "source": [
    "Date due liste resituire una lista che è la somma delle due liste\n",
    "<br> es: [1, 2, 3] + [5, 8, 23] = [6, 10, 26]"
   ]
  },
  {
   "cell_type": "code",
   "execution_count": 99,
   "id": "84a763fa-a2b6-4208-892d-973f13d69f97",
   "metadata": {},
   "outputs": [],
   "source": [
    "def sum_lists(list_1, list_2):\n",
    "    \n",
    "    list_sum = []\n",
    "    \n",
    "    for item in list_1:\n",
    "            "
   ]
  },
  {
   "cell_type": "code",
   "execution_count": 100,
   "id": "0968088d-3e81-44b4-9061-68d3508c3773",
   "metadata": {},
   "outputs": [
    {
     "data": {
      "text/plain": [
       "[4, 6, 13, 5, 7, 14, 7, 9, 16]"
      ]
     },
     "execution_count": 100,
     "metadata": {},
     "output_type": "execute_result"
    }
   ],
   "source": [
    "sum_lists([1, 2, 4], [3, 5, 12])"
   ]
  },
  {
   "cell_type": "markdown",
   "id": "0844fbab-0b04-46bb-9e01-682113262c50",
   "metadata": {},
   "source": [
    "Data una lista di parole e un valore k restituire la lista di parole che hanno lunghezza = k\n",
    "<br> bonus: se restituisco sia la lista di queste parole che il numero di parole"
   ]
  },
  {
   "cell_type": "code",
   "execution_count": 113,
   "id": "f759e848-6bb8-472c-bc2a-fbd7aa746857",
   "metadata": {},
   "outputs": [],
   "source": [
    "def find_words_k(items, k):\n",
    "    \n",
    "    words_k = []\n",
    "    \n",
    "    words_n = 0\n",
    "    \n",
    "    for item in items:\n",
    "        \n",
    "        if len(item) == k:\n",
    "            \n",
    "            words_k.append(item)\n",
    "            \n",
    "            words_n += 1\n",
    "    \n",
    "    return words_k\n",
    "\n",
    "    return words_n"
   ]
  },
  {
   "cell_type": "code",
   "execution_count": 112,
   "id": "891692ba-ba44-4454-b5e1-312279a89591",
   "metadata": {},
   "outputs": [
    {
     "data": {
      "text/plain": [
       "['dog', 'cat']"
      ]
     },
     "execution_count": 112,
     "metadata": {},
     "output_type": "execute_result"
    }
   ],
   "source": [
    "find_words_k(['dog', 'cat', 'giraffe'], 3)"
   ]
  },
  {
   "cell_type": "markdown",
   "id": "bff121e5-738c-4e0b-b483-1e3631bf8847",
   "metadata": {},
   "source": [
    "Date due liste e un valore k verificare che queste due liste abbiano lo stesso numero di parole lunghe k\n",
    "<br> per questa vanno definite due funzioni"
   ]
  },
  {
   "cell_type": "code",
   "execution_count": 120,
   "id": "19b1de90-a976-48d4-915b-5cb205e38b32",
   "metadata": {},
   "outputs": [],
   "source": [
    "def find_k_word(list_x, k):\n",
    "\n",
    "    k_words = 0\n",
    "    \n",
    "    for item in list_x:\n",
    "        \n",
    "        if len(item) == k:\n",
    "        \n",
    "            k_words +=1\n",
    "    \n",
    "    return k_words\n",
    "\n",
    "def match_k_words(list_1, list_2)\n",
    "\n",
    "    same_k_words = False\n",
    "    \n",
    "    if find_k_words(list_1, k) == fin"
   ]
  },
  {
   "cell_type": "code",
   "execution_count": 121,
   "id": "0ab00092-4981-4c50-93a9-5a071900e31f",
   "metadata": {},
   "outputs": [
    {
     "data": {
      "text/plain": [
       "2"
      ]
     },
     "execution_count": 121,
     "metadata": {},
     "output_type": "execute_result"
    }
   ],
   "source": [
    "find_k_words(['dog', 'cat', 'giraffe'], 3)"
   ]
  },
  {
   "cell_type": "code",
   "execution_count": 3,
   "id": "7eb179ca-2fa0-4a14-b297-0c242dd370a0",
   "metadata": {},
   "outputs": [
    {
     "name": "stdout",
     "output_type": "stream",
     "text": [
      "[3, 4, 15, 5, 11, 7, 2, 17, 13, 9]\n"
     ]
    }
   ],
   "source": [
    "import random\n",
    "\n",
    "mylist = [2, 3, 4, 5, 7, 9, 11, 13, 15, 17]\n",
    "random.shuffle(mylist)\n",
    "\n",
    "print(mylist)"
   ]
  }
 ],
 "metadata": {
  "kernelspec": {
   "display_name": "Python 3 (ipykernel)",
   "language": "python",
   "name": "python3"
  },
  "language_info": {
   "codemirror_mode": {
    "name": "ipython",
    "version": 3
   },
   "file_extension": ".py",
   "mimetype": "text/x-python",
   "name": "python",
   "nbconvert_exporter": "python",
   "pygments_lexer": "ipython3",
   "version": "3.9.7"
  }
 },
 "nbformat": 4,
 "nbformat_minor": 5
}
